{
 "cells": [
  {
   "cell_type": "markdown",
   "id": "57db516a",
   "metadata": {},
   "source": [
    "## 1. Load the Mall Customer Dataset "
   ]
  },
  {
   "cell_type": "code",
   "execution_count": null,
   "id": "a28ee91b",
   "metadata": {},
   "outputs": [
    {
     "name": "stdout",
     "output_type": "stream",
     "text": [
      "5 baris pertama dataset:\n"
     ]
    },
    {
     "data": {
      "text/html": [
       "<div>\n",
       "<style scoped>\n",
       "    .dataframe tbody tr th:only-of-type {\n",
       "        vertical-align: middle;\n",
       "    }\n",
       "\n",
       "    .dataframe tbody tr th {\n",
       "        vertical-align: top;\n",
       "    }\n",
       "\n",
       "    .dataframe thead th {\n",
       "        text-align: right;\n",
       "    }\n",
       "</style>\n",
       "<table border=\"1\" class=\"dataframe\">\n",
       "  <thead>\n",
       "    <tr style=\"text-align: right;\">\n",
       "      <th></th>\n",
       "      <th>CustomerID</th>\n",
       "      <th>Gender</th>\n",
       "      <th>Age</th>\n",
       "      <th>Annual Income (k$)</th>\n",
       "      <th>Spending Score (1-100)</th>\n",
       "    </tr>\n",
       "  </thead>\n",
       "  <tbody>\n",
       "    <tr>\n",
       "      <th>0</th>\n",
       "      <td>1</td>\n",
       "      <td>Male</td>\n",
       "      <td>19</td>\n",
       "      <td>15</td>\n",
       "      <td>39</td>\n",
       "    </tr>\n",
       "    <tr>\n",
       "      <th>1</th>\n",
       "      <td>2</td>\n",
       "      <td>Male</td>\n",
       "      <td>21</td>\n",
       "      <td>15</td>\n",
       "      <td>81</td>\n",
       "    </tr>\n",
       "    <tr>\n",
       "      <th>2</th>\n",
       "      <td>3</td>\n",
       "      <td>Female</td>\n",
       "      <td>20</td>\n",
       "      <td>16</td>\n",
       "      <td>6</td>\n",
       "    </tr>\n",
       "    <tr>\n",
       "      <th>3</th>\n",
       "      <td>4</td>\n",
       "      <td>Female</td>\n",
       "      <td>23</td>\n",
       "      <td>16</td>\n",
       "      <td>77</td>\n",
       "    </tr>\n",
       "    <tr>\n",
       "      <th>4</th>\n",
       "      <td>5</td>\n",
       "      <td>Female</td>\n",
       "      <td>31</td>\n",
       "      <td>17</td>\n",
       "      <td>40</td>\n",
       "    </tr>\n",
       "  </tbody>\n",
       "</table>\n",
       "</div>"
      ],
      "text/plain": [
       "   CustomerID  Gender  Age  Annual Income (k$)  Spending Score (1-100)\n",
       "0           1    Male   19                  15                      39\n",
       "1           2    Male   21                  15                      81\n",
       "2           3  Female   20                  16                       6\n",
       "3           4  Female   23                  16                      77\n",
       "4           5  Female   31                  17                      40"
      ]
     },
     "execution_count": 11,
     "metadata": {},
     "output_type": "execute_result"
    }
   ],
   "source": [
    "import pandas as pd\n",
    "import numpy as np\n",
    "import matplotlib.pyplot as plt\n",
    "import seaborn as sns\n",
    "from sklearn.preprocessing import StandardScaler, MinMaxScaler\n",
    "from sklearn.cluster import KMeans\n",
    "from sklearn.metrics import silhouette_score\n",
    "import plotly.express as px\n",
    "import plotly.graph_objects as go\n",
    "\n",
    "# Data Load\n",
    "df = pd.read_csv('data.csv')\n",
    "\n",
    "print(\"5 baris pertama dataset:\")\n",
    "df.head()"
   ]
  },
  {
   "cell_type": "markdown",
   "id": "7d1302cf",
   "metadata": {},
   "source": [
    "## 2. Basic Data Exploration "
   ]
  },
  {
   "cell_type": "code",
   "execution_count": 27,
   "id": "6d67032b",
   "metadata": {},
   "outputs": [
    {
     "name": "stdout",
     "output_type": "stream",
     "text": [
      "Informasi Dataset:\n",
      "<class 'pandas.core.frame.DataFrame'>\n",
      "RangeIndex: 200 entries, 0 to 199\n",
      "Data columns (total 6 columns):\n",
      " #   Column                  Non-Null Count  Dtype \n",
      "---  ------                  --------------  ----- \n",
      " 0   CustomerID              200 non-null    int64 \n",
      " 1   Gender                  200 non-null    object\n",
      " 2   Age                     200 non-null    int64 \n",
      " 3   Annual Income (k$)      200 non-null    int64 \n",
      " 4   Spending Score (1-100)  200 non-null    int64 \n",
      " 5   Cluster                 200 non-null    int32 \n",
      "dtypes: int32(1), int64(4), object(1)\n",
      "memory usage: 8.7+ KB\n",
      "\n",
      "Dataset Shape: (200, 6)\n",
      "\n",
      "Missing Values:\n",
      "CustomerID                0\n",
      "Gender                    0\n",
      "Age                       0\n",
      "Annual Income (k$)        0\n",
      "Spending Score (1-100)    0\n",
      "Cluster                   0\n",
      "dtype: int64\n",
      "\n",
      "Statistik Deskriptif:\n"
     ]
    },
    {
     "data": {
      "text/html": [
       "<div>\n",
       "<style scoped>\n",
       "    .dataframe tbody tr th:only-of-type {\n",
       "        vertical-align: middle;\n",
       "    }\n",
       "\n",
       "    .dataframe tbody tr th {\n",
       "        vertical-align: top;\n",
       "    }\n",
       "\n",
       "    .dataframe thead th {\n",
       "        text-align: right;\n",
       "    }\n",
       "</style>\n",
       "<table border=\"1\" class=\"dataframe\">\n",
       "  <thead>\n",
       "    <tr style=\"text-align: right;\">\n",
       "      <th></th>\n",
       "      <th>CustomerID</th>\n",
       "      <th>Age</th>\n",
       "      <th>Annual Income (k$)</th>\n",
       "      <th>Spending Score (1-100)</th>\n",
       "      <th>Cluster</th>\n",
       "    </tr>\n",
       "  </thead>\n",
       "  <tbody>\n",
       "    <tr>\n",
       "      <th>count</th>\n",
       "      <td>200.000000</td>\n",
       "      <td>200.000000</td>\n",
       "      <td>200.000000</td>\n",
       "      <td>200.000000</td>\n",
       "      <td>200.000000</td>\n",
       "    </tr>\n",
       "    <tr>\n",
       "      <th>mean</th>\n",
       "      <td>100.500000</td>\n",
       "      <td>38.850000</td>\n",
       "      <td>60.560000</td>\n",
       "      <td>50.200000</td>\n",
       "      <td>2.195000</td>\n",
       "    </tr>\n",
       "    <tr>\n",
       "      <th>std</th>\n",
       "      <td>57.879185</td>\n",
       "      <td>13.969007</td>\n",
       "      <td>26.264721</td>\n",
       "      <td>25.823522</td>\n",
       "      <td>1.332612</td>\n",
       "    </tr>\n",
       "    <tr>\n",
       "      <th>min</th>\n",
       "      <td>1.000000</td>\n",
       "      <td>18.000000</td>\n",
       "      <td>15.000000</td>\n",
       "      <td>1.000000</td>\n",
       "      <td>0.000000</td>\n",
       "    </tr>\n",
       "    <tr>\n",
       "      <th>25%</th>\n",
       "      <td>50.750000</td>\n",
       "      <td>28.750000</td>\n",
       "      <td>41.500000</td>\n",
       "      <td>34.750000</td>\n",
       "      <td>1.000000</td>\n",
       "    </tr>\n",
       "    <tr>\n",
       "      <th>50%</th>\n",
       "      <td>100.500000</td>\n",
       "      <td>36.000000</td>\n",
       "      <td>61.500000</td>\n",
       "      <td>50.000000</td>\n",
       "      <td>2.000000</td>\n",
       "    </tr>\n",
       "    <tr>\n",
       "      <th>75%</th>\n",
       "      <td>150.250000</td>\n",
       "      <td>49.000000</td>\n",
       "      <td>78.000000</td>\n",
       "      <td>73.000000</td>\n",
       "      <td>3.000000</td>\n",
       "    </tr>\n",
       "    <tr>\n",
       "      <th>max</th>\n",
       "      <td>200.000000</td>\n",
       "      <td>70.000000</td>\n",
       "      <td>137.000000</td>\n",
       "      <td>99.000000</td>\n",
       "      <td>4.000000</td>\n",
       "    </tr>\n",
       "  </tbody>\n",
       "</table>\n",
       "</div>"
      ],
      "text/plain": [
       "       CustomerID         Age  Annual Income (k$)  Spending Score (1-100)  \\\n",
       "count  200.000000  200.000000          200.000000              200.000000   \n",
       "mean   100.500000   38.850000           60.560000               50.200000   \n",
       "std     57.879185   13.969007           26.264721               25.823522   \n",
       "min      1.000000   18.000000           15.000000                1.000000   \n",
       "25%     50.750000   28.750000           41.500000               34.750000   \n",
       "50%    100.500000   36.000000           61.500000               50.000000   \n",
       "75%    150.250000   49.000000           78.000000               73.000000   \n",
       "max    200.000000   70.000000          137.000000               99.000000   \n",
       "\n",
       "          Cluster  \n",
       "count  200.000000  \n",
       "mean     2.195000  \n",
       "std      1.332612  \n",
       "min      0.000000  \n",
       "25%      1.000000  \n",
       "50%      2.000000  \n",
       "75%      3.000000  \n",
       "max      4.000000  "
      ]
     },
     "execution_count": 27,
     "metadata": {},
     "output_type": "execute_result"
    }
   ],
   "source": [
    "# Menampilkan informasi umum dataset\n",
    "print(\"Informasi Dataset:\")\n",
    "df.info()\n",
    "\n",
    "print(\"\\nDataset Shape:\", df.shape)\n",
    "\n",
    "# Mengecek data yang hilang\n",
    "print(\"\\nMissing Values:\")\n",
    "missing_values = df.isnull().sum()\n",
    "print(missing_values)\n",
    "\n",
    "# Membuat ringkasan statistik deskriptif\n",
    "print(\"\\nStatistik Deskriptif:\")\n",
    "df.describe()"
   ]
  },
  {
   "cell_type": "markdown",
   "id": "5a4c6ba8",
   "metadata": {},
   "source": [
    "## 3. Data Visualization - Age Distribution "
   ]
  },
  {
   "cell_type": "code",
   "execution_count": null,
   "id": "cc1a799d",
   "metadata": {},
   "outputs": [
    {
     "data": {
      "image/png": "[encoded data removed]",
      "text/plain": [
       "<Figure size 1500x1000 with 4 Axes>"
      ]
     },
     "metadata": {},
     "output_type": "display_data"
    },
    {
     "name": "stdout",
     "output_type": "stream",
     "text": [
      "Wawasan Utama:\n",
      "• Total pelanggan: 200\n",
      "• Rentang usia: 18 - 70 tahun\n",
      "• Rata-rata usia: 38.9 tahun\n",
      "• Pembagian gender: 112 Perempuan, 88 Laki-laki\n",
      "• Rentang pendapatan: $15k - $137k\n",
      "• Rentang skor pengeluaran: 1 - 99\n"
     ]
    }
   ],
   "source": [
    "plt.style.use('default')\n",
    "fig, axes = plt.subplots(2, 2, figsize=(15, 10))\n",
    "\n",
    "# Histogram Distribusi Usia Pelanggan\n",
    "axes[0, 0].hist(df['Age'], bins=20, color='skyblue', alpha=0.7, edgecolor='black')\n",
    "axes[0, 0].set_title('Distribusi Usia Pelanggan', fontsize=14, fontweight='bold')\n",
    "axes[0, 0].set_xlabel('Usia')\n",
    "axes[0, 0].set_ylabel('Frekuensi')\n",
    "axes[0, 0].grid(True, alpha=0.3)\n",
    "\n",
    "# Pie Chart Distribusi Gender\n",
    "gender_counts = df['Gender'].value_counts()\n",
    "axes[0, 1].pie(gender_counts.values, labels=gender_counts.index, autopct='%1.1f%%', \n",
    "               colors=['lightcoral', 'lightblue'], startangle=90)\n",
    "axes[0, 1].set_title('Distribusi Gender', fontsize=14, fontweight='bold')\n",
    "\n",
    "# Histogram Distribusi Pendapatan Tahunan\n",
    "axes[1, 0].hist(df['Annual Income (k$)'], bins=20, color='lightgreen', alpha=0.7, edgecolor='black')\n",
    "axes[1, 0].set_title('Distribusi Pendapatan Tahunan', fontsize=14, fontweight='bold')\n",
    "axes[1, 0].set_xlabel('Pendapatan Tahunan (dalam k$)')\n",
    "axes[1, 0].set_ylabel('Frekuensi')\n",
    "axes[1, 0].grid(True, alpha=0.3)\n",
    "\n",
    "# Histogram Distribusi Skor Pengeluaran\n",
    "axes[1, 1].hist(df['Spending Score (1-100)'], bins=20, color='gold', alpha=0.7, edgecolor='black')\n",
    "axes[1, 1].set_title('Distribusi Skor Pengeluaran', fontsize=14, fontweight='bold')\n",
    "axes[1, 1].set_xlabel('Skor Pengeluaran (1-100)')\n",
    "axes[1, 1].set_ylabel('Frekuensi')\n",
    "axes[1, 1].grid(True, alpha=0.3)\n",
    "\n",
    "plt.tight_layout()\n",
    "plt.show()\n",
    "\n",
    "# Menampilkan insight dari data\n",
    "print(\"Wawasan Utama:\")\n",
    "print(f\"• Total pelanggan: {len(df)}\")\n",
    "print(f\"• Rentang usia: {df['Age'].min()} - {df['Age'].max()} tahun\")\n",
    "print(f\"• Rata-rata usia: {df['Age'].mean():.1f} tahun\")\n",
    "print(f\"• Pembagian gender: {gender_counts['Female']} Perempuan, {gender_counts['Male']} Laki-laki\")\n",
    "print(f\"• Rentang pendapatan: ${df['Annual Income (k$)'].min()}k - ${df['Annual Income (k$)'].max()}k\")\n",
    "print(f\"• Rentang skor pengeluaran: {df['Spending Score (1-100)'].min()} - {df['Spending Score (1-100)'].max()}\")"
   ]
  },
  {
   "cell_type": "markdown",
   "id": "1e5e1289",
   "metadata": {},
   "source": [
    "**Interpretasi Hasil**\n",
    "- Distribusi Usia: Mayoritas pelanggan berada dalam rentang usia 20-40 tahun.\n",
    "- Distribusi Gender: Terdapat lebih banyak pelanggan perempuan (56%) dibandingkan laki-laki (44%).\n",
    "- Distribusi Pendapatan: Pendapatan pelanggan paling banyak terkonsentrasi di sekitar $50k - $80k per tahun.\n",
    "- Skor Pengeluaran: Distribusi skor pengeluaran menunjukkan dua puncak, satu di sekitar 40-60 dan satu lagi di rentang skor tinggi (di atas 70) mengindikasikan adanya kelompok-kelompok perilaku belanja yang berbeda."
   ]
  },
  {
   "cell_type": "markdown",
   "id": "aa34dd8f",
   "metadata": {},
   "source": [
    "## 4. Data Normalization"
   ]
  },
  {
   "cell_type": "code",
   "execution_count": null,
   "id": "9dbe5599",
   "metadata": {},
   "outputs": [
    {
     "name": "stdout",
     "output_type": "stream",
     "text": [
      "Bentuk data asli: (200, 3)\n",
      "\n",
      "Data asli (5 baris pertama):\n",
      "   Age  Annual Income (k$)  Spending Score (1-100)\n",
      "0   19                  15                      39\n",
      "1   21                  15                      81\n",
      "2   20                  16                       6\n",
      "3   23                  16                      77\n",
      "4   31                  17                      40\n",
      "Hasil MinMaxScaler (rentang 0-1):\n",
      "        Age  Annual Income (k$)  Spending Score (1-100)\n",
      "0  0.019231            0.000000                0.387755\n",
      "1  0.057692            0.000000                0.816327\n",
      "2  0.038462            0.008197                0.051020\n",
      "3  0.096154            0.008197                0.775510\n",
      "4  0.250000            0.016393                0.397959\n",
      "\n",
      "Statistik setelah MinMaxScaler:\n",
      "              Age  Annual Income (k$)  Spending Score (1-100)\n",
      "count  200.000000          200.000000              200.000000\n",
      "mean     0.400962            0.373443                0.502041\n",
      "std      0.268635            0.215285                0.263505\n",
      "min      0.000000            0.000000                0.000000\n",
      "25%      0.206731            0.217213                0.344388\n",
      "50%      0.346154            0.381148                0.500000\n",
      "75%      0.596154            0.516393                0.734694\n",
      "max      1.000000            1.000000                1.000000\n",
      "Hasil StandardScaler (rata-rata=0, std=1):\n",
      "        Age  Annual Income (k$)  Spending Score (1-100)\n",
      "0 -1.424569           -1.738999               -0.434801\n",
      "1 -1.281035           -1.738999                1.195704\n",
      "2 -1.352802           -1.700830               -1.715913\n",
      "3 -1.137502           -1.700830                1.040418\n",
      "4 -0.563369           -1.662660               -0.395980\n",
      "\n",
      "Statistik setelah StandardScaler:\n",
      "                Age  Annual Income (k$)  Spending Score (1-100)\n",
      "count  2.000000e+02        2.000000e+02            2.000000e+02\n",
      "mean  -1.021405e-16       -2.131628e-16           -1.465494e-16\n",
      "std    1.002509e+00        1.002509e+00            1.002509e+00\n",
      "min   -1.496335e+00       -1.738999e+00           -1.910021e+00\n",
      "25%   -7.248436e-01       -7.275093e-01           -5.997931e-01\n",
      "50%   -2.045351e-01        3.587926e-02           -7.764312e-03\n",
      "75%    7.284319e-01        6.656748e-01            8.851316e-01\n",
      "max    2.235532e+00        2.917671e+00            1.894492e+00\n"
     ]
    },
    {
     "data": {
      "image/png": "[encoded data removed]",
      "text/plain": [
       "<Figure size 1800x1200 with 9 Axes>"
      ]
     },
     "metadata": {},
     "output_type": "display_data"
    },
    {
     "name": "stdout",
     "output_type": "stream",
     "text": [
      "\n",
      "Untuk proses clustering K-Means, akan digunakan hasil dari StandardScaler.\n",
      "Bentuk dataframe setelah normalisasi: (200, 6)\n"
     ]
    }
   ],
   "source": [
    "# Data Prep\n",
    "numerical_features = ['Age', 'Annual Income (k$)', 'Spending Score (1-100)']\n",
    "print(\"Bentuk data asli:\", df[numerical_features].shape)\n",
    "# Menampilkan 5 baris pertama dari data asli sebagai perbandingan\n",
    "print(\"\\nData asli (5 baris pertama):\")\n",
    "print(df[numerical_features].head())\n",
    "\n",
    "# Metode 1: MinMaxScaler (mengubah skala ke rentang 0-1)\n",
    "minmax_scaler = MinMaxScaler()\n",
    "df_minmax = df.copy()\n",
    "df_minmax[numerical_features] = minmax_scaler.fit_transform(df[numerical_features])\n",
    "\n",
    "# Menampilkan hasil setelah normalisasi dengan MinMaxScaler\n",
    "print(\"Hasil MinMaxScaler (rentang 0-1):\")\n",
    "print(df_minmax[numerical_features].head())\n",
    "print(\"\\nStatistik setelah MinMaxScaler:\")\n",
    "print(df_minmax[numerical_features].describe())\n",
    "\n",
    "# Metode 2: StandardScaler (normalisasi z-score)\n",
    "standard_scaler = StandardScaler()\n",
    "df_standard = df.copy()\n",
    "df_standard[numerical_features] = standard_scaler.fit_transform(df[numerical_features])\n",
    "\n",
    "# Menampilkan hasil setelah normalisasi dengan StandardScaler\n",
    "print(\"Hasil StandardScaler (rata-rata=0, std=1):\")\n",
    "print(df_standard[numerical_features].head())\n",
    "print(\"\\nStatistik setelah StandardScaler:\")\n",
    "print(df_standard[numerical_features].describe())\n",
    "\n",
    "# Visualisasi Perbandingan Data\n",
    "# Membuat visualisasi untuk membandingkan distribusi data asli dengan data yang sudah dinormalisasi.\n",
    "fig, axes = plt.subplots(3, 3, figsize=(18, 12))\n",
    "\n",
    "# Melakukan iterasi untuk setiap fitur numerik ('Age', 'Annual Income', 'Spending Score')\n",
    "for i, feature in enumerate(numerical_features):\n",
    "    # Plot untuk data asli\n",
    "    axes[i, 0].hist(df[feature], bins=20, alpha=0.7, color='blue', edgecolor='black')\n",
    "    axes[i, 0].set_title(f'Distribusi Asli - {feature}', fontweight='bold')\n",
    "    axes[i, 0].grid(True, alpha=0.3)\n",
    "    \n",
    "    # Plot untuk data hasil normalisasi MinMax\n",
    "    axes[i, 1].hist(df_minmax[feature], bins=20, alpha=0.7, color='green', edgecolor='black')\n",
    "    axes[i, 1].set_title(f'Skala MinMax - {feature}', fontweight='bold')\n",
    "    axes[i, 1].grid(True, alpha=0.3)\n",
    "    \n",
    "    # Plot untuk data hasil standardisasi\n",
    "    axes[i, 2].hist(df_standard[feature], bins=20, alpha=0.7, color='red', edgecolor='black')\n",
    "    axes[i, 2].set_title(f'Skala Standar (Z-score) - {feature}', fontweight='bold')\n",
    "    axes[i, 2].grid(True, alpha=0.3)\n",
    "\n",
    "plt.tight_layout()\n",
    "plt.show()\n",
    "\n",
    "# Keputusan dan Langkah Selanjutnya\n",
    "print(\"\\nUntuk proses clustering K-Means, akan digunakan hasil dari StandardScaler.\")\n",
    "print(\"Bentuk dataframe setelah normalisasi:\", df_standard.shape)"
   ]
  },
  {
   "cell_type": "markdown",
   "id": "41d4bbc3",
   "metadata": {},
   "source": [
    "**Interpretasi Hasil**\n",
    "\n",
    "Data numerik telah berhasil ditransformasi. Seperti yang terlihat pada pratinjau, semua nilai sekarang berada di sekitar 0, yang menandakan bahwa setiap fitur memiliki skala yang seragam dan siap untuk proses clustering."
   ]
  },
  {
   "cell_type": "markdown",
   "id": "604e4943",
   "metadata": {},
   "source": [
    "## 5. Elbow Method for K-Means"
   ]
  },
  {
   "cell_type": "code",
   "execution_count": null,
   "id": "87a33344",
   "metadata": {},
   "outputs": [
    {
     "name": "stdout",
     "output_type": "stream",
     "text": [
      "Menghitung jumlah cluster optimal\n",
      "K\tInersia\t\tSkor silhoutte\n",
      "1\t600.00\t\tN/A\n",
      "2\t389.39\t\t0.335\n",
      "3\t295.21\t\t0.358\n",
      "4\t205.23\t\t0.404\n",
      "5\t168.25\t\t0.417\n",
      "6\t133.87\t\t0.428\n",
      "7\t117.01\t\t0.417\n",
      "8\t103.87\t\t0.408\n",
      "9\t93.09\t\t0.418\n",
      "10\t82.39\t\t0.407\n"
     ]
    },
    {
     "data": {
      "image/png": "[encoded data removed]",
      "text/plain": [
       "<Figure size 1500x500 with 2 Axes>"
      ]
     },
     "metadata": {},
     "output_type": "display_data"
    },
    {
     "name": "stdout",
     "output_type": "stream",
     "text": [
      "\n",
      "Analisis:\n",
      "• Metode Siku menyarankan k=5 sebagai pilihan yang baik.\n",
      "• Skor silhoutte tertinggi dicapai pada k=6.\n",
      "• Skor silhoutte untuk k=5 adalah: 0.417\n",
      "• Skor silhoutte maksimum adalah: 0.428 pada k=6\n",
      "\n",
      "Menggunakan k=5 cluster untuk model final.\n"
     ]
    }
   ],
   "source": [
    "# Data Prep untuk clustering\n",
    "X = df_standard[numerical_features]\n",
    "\n",
    "# Elbow Method & Analisis silhoutte\n",
    "# Mencoba nilai k dari 1 hingga 10 untuk melihat mana yang terbaik.\n",
    "k_range = range(1, 11)\n",
    "inersia = []\n",
    "skor_silhoutte = []\n",
    "\n",
    "print(\"Menghitung jumlah cluster optimal\")\n",
    "print(\"K\\tInersia\\t\\tSkor silhoutte\")\n",
    "\n",
    "# Melakukan iterasi untuk setiap nilai k\n",
    "for k in k_range:\n",
    "    # Membuat model KMeans dengan jumlah cluster k\n",
    "    kmeans = KMeans(n_clusters=k, random_state=42, n_init=10)\n",
    "    kmeans.fit(X)\n",
    "    inersia.append(kmeans.inertia_)\n",
    "    \n",
    "    if k > 1:\n",
    "        avg_silhoutte = silhouette_score(X, kmeans.labels_)\n",
    "        skor_silhoutte.append(avg_silhoutte)\n",
    "        print(f\"{k}\\t{kmeans.inertia_:.2f}\\t\\t{avg_silhoutte:.3f}\")\n",
    "    else:\n",
    "        skor_silhoutte.append(0) \n",
    "        print(f\"{k}\\t{kmeans.inertia_:.2f}\\t\\tN/A\")\n",
    "\n",
    "# Visualisasi Hasil\n",
    "fig, (ax1, ax2) = plt.subplots(1, 2, figsize=(15, 5))\n",
    "\n",
    "# Plot Elbow Method\n",
    "# Membuat plot garis yang menghubungkan nilai k dengan inersianya\n",
    "ax1.plot(k_range, inersia, 'bo-', linewidth=2, markersize=8)\n",
    "ax1.set_title('Elbow Method untuk K Optimal', fontsize=14, fontweight='bold')\n",
    "ax1.set_xlabel('Jumlah Cluster (k)')\n",
    "ax1.set_ylabel('Inersia (WCSS)')\n",
    "ax1.grid(True, alpha=0.3)\n",
    "\n",
    "# Menandai titik \"siku\" yang diidentifikasi secara visual\n",
    "ax1.axvline(x=5, color='red', linestyle='--', alpha=0.7, label='Rekomendasi k=5')\n",
    "ax1.legend()\n",
    "\n",
    "# Plot Analisis silhoutte\n",
    "# Membuat plot garis yang menghubungkan nilai k dengan skor siluet rata-ratanya\n",
    "ax2.plot(range(2, 11), skor_silhoutte[1:], 'ro-', linewidth=2, markersize=8)\n",
    "ax2.set_title('Analisis Skor silhoutte', fontsize=14, fontweight='bold')\n",
    "ax2.set_xlabel('Jumlah Cluster (k)')\n",
    "ax2.set_ylabel('Rata-rata Skor silhoutte')\n",
    "ax2.grid(True, alpha=0.3)\n",
    "\n",
    "# Mencari nilai k dengan skor siluet tertinggi\n",
    "best_k = skor_silhoutte[1:].index(max(skor_silhoutte[1:])) + 2\n",
    "ax2.axvline(x=best_k, color='red', linestyle='--', alpha=0.7, label=f'k terbaik={best_k}')\n",
    "ax2.legend()\n",
    "\n",
    "plt.tight_layout()\n",
    "plt.show()\n",
    "\n",
    "# Analisis dan Rekomendasi\n",
    "# Mencetak kesimpulan dari kedua metode\n",
    "print(f\"\\nAnalisis:\")\n",
    "print(f\"• Metode Siku menyarankan k=5 sebagai pilihan yang baik.\")\n",
    "print(f\"• Skor silhoutte tertinggi dicapai pada k={best_k}.\")\n",
    "print(f\"• Skor silhoutte untuk k=5 adalah: {skor_silhoutte[4]:.3f}\")\n",
    "print(f\"• Skor silhoutte maksimum adalah: {max(skor_silhoutte[1:]):.3f} pada k={best_k}\")\n",
    "\n",
    "# Karena k=5 menunjukkan titik siku yang jelas dan memiliki skor silhoutte yang tinggi,\n",
    "k_optimal = 5\n",
    "print(f\"\\nMenggunakan k={k_optimal} cluster untuk model final.\")"
   ]
  },
  {
   "cell_type": "markdown",
   "id": "1f0873d7",
   "metadata": {},
   "source": [
    "**Interpretasi Hasil**\n",
    "\n",
    "- Elbow Method: Grafik menunjukkan \"siku\" atau patahan yang paling jelas pada K=5. Setelah titik ini, penurunan nilai inersia tidak lagi signifikan.\n",
    "- Silhouette Score: Skor siluet tertinggi dicapai pada K=6 (0.428), namun skor untuk K=5 juga sangat kompetitif (0.417).\n",
    "- Keputusan: Dengan mempertimbangkan patahan yang jelas pada Metode Siku dan skor siluet yang tinggi, K=5 dipilih sebagai jumlah cluster yang optimal karena memberikan keseimbangan terbaik antara kohesi intra-cluster dan separasi antar-cluster."
   ]
  },
  {
   "cell_type": "markdown",
   "id": "160e88ac",
   "metadata": {},
   "source": [
    "## 6. Customer Segmentation with K-Means "
   ]
  },
  {
   "cell_type": "code",
   "execution_count": 21,
   "id": "1f990e3f",
   "metadata": {},
   "outputs": [
    {
     "name": "stdout",
     "output_type": "stream",
     "text": [
      "Hasil Clustering K-Means (k=5):\n",
      "Jumlah pelanggan di setiap cluster:\n",
      "Cluster 0: 20 pelanggan (10.0%)\n",
      "Cluster 1: 54 pelanggan (27.0%)\n",
      "Cluster 2: 40 pelanggan (20.0%)\n",
      "Cluster 3: 39 pelanggan (19.5%)\n",
      "Cluster 4: 47 pelanggan (23.5%)\n",
      "\n",
      "Skor Siluet Final: 0.417\n"
     ]
    },
    {
     "data": {
      "application/vnd.plotly.v1+json": {
       "config": {
        "plotlyServerURL": "https://plot.ly"
       },
       "data": [
        {
         "customdata": [
          [
           1,
           19,
           "Male"
          ],
          [
           2,
           21,
           "Male"
          ],
          [
           3,
           20,
           "Female"
          ],
          [
           4,
           23,
           "Female"
          ],
          [
           5,
           31,
           "Female"
          ],
          [
           6,
           22,
           "Female"
          ],
          [
           7,
           35,
           "Female"
          ],
          [
           8,
           23,
           "Female"
          ],
          [
           9,
           64,
           "Male"
          ],
          [
           10,
           30,
           "Female"
          ],
          [
           11,
           67,
           "Male"
          ],
          [
           12,
           35,
           "Female"
          ],
          [
           13,
           58,
           "Female"
          ],
          [
           14,
           24,
           "Female"
          ],
          [
           15,
           37,
           "Male"
          ],
          [
           16,
           22,
           "Male"
          ],
          [
           17,
           35,
           "Female"
          ],
          [
           18,
           20,
           "Male"
          ],
          [
           19,
           52,
           "Male"
          ],
          [
           20,
           35,
           "Female"
          ],
          [
           21,
           35,
           "Male"
          ],
          [
           22,
           25,
           "Male"
          ],
          [
           23,
           46,
           "Female"
          ],
          [
           24,
           31,
           "Male"
          ],
          [
           25,
           54,
           "Female"
          ],
          [
           26,
           29,
           "Male"
          ],
          [
           27,
           45,
           "Female"
          ],
          [
           28,
           35,
           "Male"
          ],
          [
           29,
           40,
           "Female"
          ],
          [
           30,
           23,
           "Female"
          ],
          [
           31,
           60,
           "Male"
          ],
          [
           32,
           21,
           "Female"
          ],
          [
           33,
           53,
           "Male"
          ],
          [
           34,
           18,
           "Male"
          ],
          [
           35,
           49,
           "Female"
          ],
          [
           36,
           21,
           "Female"
          ],
          [
           37,
           42,
           "Female"
          ],
          [
           38,
           30,
           "Female"
          ],
          [
           39,
           36,
           "Female"
          ],
          [
           40,
           20,
           "Female"
          ],
          [
           41,
           65,
           "Female"
          ],
          [
           42,
           24,
           "Male"
          ],
          [
           43,
           48,
           "Male"
          ],
          [
           44,
           31,
           "Female"
          ],
          [
           45,
           49,
           "Female"
          ],
          [
           46,
           24,
           "Female"
          ],
          [
           47,
           50,
           "Female"
          ],
          [
           48,
           27,
           "Female"
          ],
          [
           49,
           29,
           "Female"
          ],
          [
           50,
           31,
           "Female"
          ],
          [
           51,
           49,
           "Female"
          ],
          [
           52,
           33,
           "Male"
          ],
          [
           53,
           31,
           "Female"
          ],
          [
           54,
           59,
           "Male"
          ],
          [
           55,
           50,
           "Female"
          ],
          [
           56,
           47,
           "Male"
          ],
          [
           57,
           51,
           "Female"
          ],
          [
           58,
           69,
           "Male"
          ],
          [
           59,
           27,
           "Female"
          ],
          [
           60,
           53,
           "Male"
          ],
          [
           61,
           70,
           "Male"
          ],
          [
           62,
           19,
           "Male"
          ],
          [
           63,
           67,
           "Female"
          ],
          [
           64,
           54,
           "Female"
          ],
          [
           65,
           63,
           "Male"
          ],
          [
           66,
           18,
           "Male"
          ],
          [
           67,
           43,
           "Female"
          ],
          [
           68,
           68,
           "Female"
          ],
          [
           69,
           19,
           "Male"
          ],
          [
           70,
           32,
           "Female"
          ],
          [
           71,
           70,
           "Male"
          ],
          [
           72,
           47,
           "Female"
          ],
          [
           73,
           60,
           "Female"
          ],
          [
           74,
           60,
           "Female"
          ],
          [
           75,
           59,
           "Male"
          ],
          [
           76,
           26,
           "Male"
          ],
          [
           77,
           45,
           "Female"
          ],
          [
           78,
           40,
           "Male"
          ],
          [
           79,
           23,
           "Female"
          ],
          [
           80,
           49,
           "Female"
          ],
          [
           81,
           57,
           "Male"
          ],
          [
           82,
           38,
           "Male"
          ],
          [
           83,
           67,
           "Male"
          ],
          [
           84,
           46,
           "Female"
          ],
          [
           85,
           21,
           "Female"
          ],
          [
           86,
           48,
           "Male"
          ],
          [
           87,
           55,
           "Female"
          ],
          [
           88,
           22,
           "Female"
          ],
          [
           89,
           34,
           "Female"
          ],
          [
           90,
           50,
           "Female"
          ],
          [
           91,
           68,
           "Female"
          ],
          [
           92,
           18,
           "Male"
          ],
          [
           93,
           48,
           "Male"
          ],
          [
           94,
           40,
           "Female"
          ],
          [
           95,
           32,
           "Female"
          ],
          [
           96,
           24,
           "Male"
          ],
          [
           97,
           47,
           "Female"
          ],
          [
           98,
           27,
           "Female"
          ],
          [
           99,
           48,
           "Male"
          ],
          [
           100,
           20,
           "Male"
          ],
          [
           101,
           23,
           "Female"
          ],
          [
           102,
           49,
           "Female"
          ],
          [
           103,
           67,
           "Male"
          ],
          [
           104,
           26,
           "Male"
          ],
          [
           105,
           49,
           "Male"
          ],
          [
           106,
           21,
           "Female"
          ],
          [
           107,
           66,
           "Female"
          ],
          [
           108,
           54,
           "Male"
          ],
          [
           109,
           68,
           "Male"
          ],
          [
           110,
           66,
           "Male"
          ],
          [
           111,
           65,
           "Male"
          ],
          [
           112,
           19,
           "Female"
          ],
          [
           113,
           38,
           "Female"
          ],
          [
           114,
           19,
           "Male"
          ],
          [
           115,
           18,
           "Female"
          ],
          [
           116,
           19,
           "Female"
          ],
          [
           117,
           63,
           "Female"
          ],
          [
           118,
           49,
           "Female"
          ],
          [
           119,
           51,
           "Female"
          ],
          [
           120,
           50,
           "Female"
          ],
          [
           121,
           27,
           "Male"
          ],
          [
           122,
           38,
           "Female"
          ],
          [
           123,
           40,
           "Female"
          ],
          [
           124,
           39,
           "Male"
          ],
          [
           125,
           23,
           "Female"
          ],
          [
           126,
           31,
           "Female"
          ],
          [
           127,
           43,
           "Male"
          ],
          [
           128,
           40,
           "Male"
          ],
          [
           129,
           59,
           "Male"
          ],
          [
           130,
           38,
           "Male"
          ],
          [
           131,
           47,
           "Male"
          ],
          [
           132,
           39,
           "Male"
          ],
          [
           133,
           25,
           "Female"
          ],
          [
           134,
           31,
           "Female"
          ],
          [
           135,
           20,
           "Male"
          ],
          [
           136,
           29,
           "Female"
          ],
          [
           137,
           44,
           "Female"
          ],
          [
           138,
           32,
           "Male"
          ],
          [
           139,
           19,
           "Male"
          ],
          [
           140,
           35,
           "Female"
          ],
          [
           141,
           57,
           "Female"
          ],
          [
           142,
           32,
           "Male"
          ],
          [
           143,
           28,
           "Female"
          ],
          [
           144,
           32,
           "Female"
          ],
          [
           145,
           25,
           "Male"
          ],
          [
           146,
           28,
           "Male"
          ],
          [
           147,
           48,
           "Male"
          ],
          [
           148,
           32,
           "Female"
          ],
          [
           149,
           34,
           "Female"
          ],
          [
           150,
           34,
           "Male"
          ],
          [
           151,
           43,
           "Male"
          ],
          [
           152,
           39,
           "Male"
          ],
          [
           153,
           44,
           "Female"
          ],
          [
           154,
           38,
           "Female"
          ],
          [
           155,
           47,
           "Female"
          ],
          [
           156,
           27,
           "Female"
          ],
          [
           157,
           37,
           "Male"
          ],
          [
           158,
           30,
           "Female"
          ],
          [
           159,
           34,
           "Male"
          ],
          [
           160,
           30,
           "Female"
          ],
          [
           161,
           56,
           "Female"
          ],
          [
           162,
           29,
           "Female"
          ],
          [
           163,
           19,
           "Male"
          ],
          [
           164,
           31,
           "Female"
          ],
          [
           165,
           50,
           "Male"
          ],
          [
           166,
           36,
           "Female"
          ],
          [
           167,
           42,
           "Male"
          ],
          [
           168,
           33,
           "Female"
          ],
          [
           169,
           36,
           "Female"
          ],
          [
           170,
           32,
           "Male"
          ],
          [
           171,
           40,
           "Male"
          ],
          [
           172,
           28,
           "Male"
          ],
          [
           173,
           36,
           "Male"
          ],
          [
           174,
           36,
           "Male"
          ],
          [
           175,
           52,
           "Female"
          ],
          [
           176,
           30,
           "Female"
          ],
          [
           177,
           58,
           "Male"
          ],
          [
           178,
           27,
           "Male"
          ],
          [
           179,
           59,
           "Male"
          ],
          [
           180,
           35,
           "Male"
          ],
          [
           181,
           37,
           "Female"
          ],
          [
           182,
           32,
           "Female"
          ],
          [
           183,
           46,
           "Male"
          ],
          [
           184,
           29,
           "Female"
          ],
          [
           185,
           41,
           "Female"
          ],
          [
           186,
           30,
           "Male"
          ],
          [
           187,
           54,
           "Female"
          ],
          [
           188,
           28,
           "Male"
          ],
          [
           189,
           41,
           "Female"
          ],
          [
           190,
           36,
           "Female"
          ],
          [
           191,
           34,
           "Female"
          ],
          [
           192,
           32,
           "Female"
          ],
          [
           193,
           33,
           "Male"
          ],
          [
           194,
           38,
           "Female"
          ],
          [
           195,
           47,
           "Female"
          ],
          [
           196,
           35,
           "Female"
          ],
          [
           197,
           45,
           "Female"
          ],
          [
           198,
           32,
           "Male"
          ],
          [
           199,
           32,
           "Male"
          ],
          [
           200,
           30,
           "Male"
          ]
         ],
         "hovertemplate": "Pendapatan Tahunan (k$)=%{x}<br>Skor Pengeluaran=%{y}<br>CustomerID=%{customdata[0]}<br>Age=%{customdata[1]}<br>Gender=%{customdata[2]}<br>Cluster=%{marker.color}<extra></extra>",
         "legendgroup": "",
         "marker": {
          "color": {
           "bdata": "AQAAAAEAAAAAAAAAAQAAAAEAAAABAAAAAAAAAAEAAAAAAAAAAQAAAAAAAAABAAAAAAAAAAEAAAAAAAAAAQAAAAAAAAABAAAAAAAAAAEAAAAAAAAAAQAAAAAAAAABAAAAAAAAAAEAAAAAAAAAAQAAAAAAAAABAAAAAAAAAAEAAAAAAAAAAQAAAAAAAAABAAAAAAAAAAEAAAAAAAAAAQAAAAQAAAABAAAAAAAAAAEAAAAAAAAAAQAAAAQAAAABAAAAAQAAAAEAAAAEAAAAAQAAAAEAAAAEAAAABAAAAAQAAAAEAAAABAAAAAEAAAAEAAAABAAAAAEAAAAEAAAABAAAAAQAAAABAAAABAAAAAQAAAABAAAAAQAAAAQAAAAEAAAABAAAAAQAAAAEAAAAAQAAAAQAAAAEAAAAAQAAAAQAAAAEAAAAAQAAAAQAAAAEAAAAAQAAAAQAAAAEAAAAAQAAAAEAAAAEAAAABAAAAAEAAAAEAAAABAAAAAEAAAABAAAABAAAAAEAAAAEAAAAAQAAAAEAAAAEAAAABAAAAAEAAAAEAAAAAQAAAAQAAAAEAAAABAAAAAQAAAAEAAAAAQAAAAMAAAABAAAAAQAAAAEAAAAEAAAABAAAAAQAAAAEAAAAAQAAAAMAAAACAAAAAgAAAAMAAAACAAAAAwAAAAIAAAADAAAAAgAAAAMAAAACAAAAAwAAAAIAAAADAAAAAgAAAAMAAAACAAAAAwAAAAIAAAADAAAAAgAAAAMAAAACAAAAAwAAAAIAAAADAAAAAgAAAAMAAAACAAAAAwAAAAIAAAADAAAAAgAAAAMAAAACAAAAAwAAAAIAAAADAAAAAgAAAAQAAAACAAAAAwAAAAIAAAADAAAAAgAAAAMAAAACAAAAAwAAAAIAAAADAAAAAgAAAAMAAAACAAAAAwAAAAIAAAADAAAAAgAAAAMAAAACAAAAAwAAAAIAAAADAAAAAgAAAAMAAAACAAAAAwAAAAIAAAADAAAAAgAAAAMAAAACAAAAAwAAAAIAAAADAAAAAgAAAAMAAAACAAAAAwAAAAIAAAA=",
           "dtype": "i4"
          },
          "coloraxis": "coloraxis",
          "symbol": "circle"
         },
         "mode": "markers",
         "name": "",
         "orientation": "v",
         "showlegend": false,
         "type": "scatter",
         "x": {
          "bdata": "DwAPABAAEAARABEAEgASABMAEwATABMAFAAUABQAFAAVABUAFwAXABgAGAAZABkAHAAcABwAHAAdAB0AHgAeACEAIQAhACEAIgAiACUAJQAmACYAJwAnACcAJwAoACgAKAAoACoAKgArACsAKwArACwALAAuAC4ALgAuAC8ALwAwADAAMAAwADAAMAAxADEAMgAyADYANgA2ADYANgA2ADYANgA2ADYANgA2ADkAOQA6ADoAOwA7ADwAPAA8ADwAPAA8AD0APQA+AD4APgA+AD4APgA/AD8APwA/AD8APwBAAEAAQQBBAEEAQQBDAEMAQwBDAEUARQBGAEYARwBHAEcARwBHAEcASABIAEkASQBJAEkASgBKAEsASwBMAEwATQBNAE0ATQBOAE4ATgBOAE4ATgBOAE4ATgBOAE4ATgBPAE8AUQBRAFUAVQBWAFYAVwBXAFcAVwBXAFcAWABYAFgAWABdAF0AYQBhAGIAYgBjAGMAZQBlAGcAZwBnAGcAcQBxAHgAeAB+AH4AiQCJAA==",
          "dtype": "i2"
         },
         "xaxis": "x",
         "y": {
          "bdata": "J1EGTShMBl4DSA5jD00NTyNCHWIjSQVJDlIgPR9XBEkEXA5REUkaSyNcJD0cQTcvKio0PDY8LSkyLjMuODc0OzM7MjA7LzcqMTgvNjUwNCozNyksOS46NzwuNykxKCo0LzIqMSkwOzc4KjIuKzA0NiouMDIrOys5OCg6Wx1NI18LSwlLIkcFWAdJCkgFXShXDGEkShZaEVgUTBBZAU4BSSNTBV0aSxRfGz8NSwpcDVYPRQ5aIFYPWCdhGEQRVRdFCFsQTxxKElM=",
          "dtype": "i1"
         },
         "yaxis": "y"
        }
       ],
       "layout": {
        "coloraxis": {
         "colorbar": {
          "title": {
           "text": "Cluster"
          }
         },
         "colorscale": [
          [
           0,
           "#0d0887"
          ],
          [
           0.1111111111111111,
           "#46039f"
          ],
          [
           0.2222222222222222,
           "#7201a8"
          ],
          [
           0.3333333333333333,
           "#9c179e"
          ],
          [
           0.4444444444444444,
           "#bd3786"
          ],
          [
           0.5555555555555556,
           "#d8576b"
          ],
          [
           0.6666666666666666,
           "#ed7953"
          ],
          [
           0.7777777777777778,
           "#fb9f3a"
          ],
          [
           0.8888888888888888,
           "#fdca26"
          ],
          [
           1,
           "#f0f921"
          ]
         ]
        },
        "legend": {
         "tracegroupgap": 0
        },
        "template": {
         "data": {
          "bar": [
           {
            "error_x": {
             "color": "#2a3f5f"
            },
            "error_y": {
             "color": "#2a3f5f"
            },
            "marker": {
             "line": {
              "color": "#E5ECF6",
              "width": 0.5
             },
             "pattern": {
              "fillmode": "overlay",
              "size": 10,
              "solidity": 0.2
             }
            },
            "type": "bar"
           }
          ],
          "barpolar": [
           {
            "marker": {
             "line": {
              "color": "#E5ECF6",
              "width": 0.5
             },
             "pattern": {
              "fillmode": "overlay",
              "size": 10,
              "solidity": 0.2
             }
            },
            "type": "barpolar"
           }
          ],
          "carpet": [
           {
            "aaxis": {
             "endlinecolor": "#2a3f5f",
             "gridcolor": "white",
             "linecolor": "white",
             "minorgridcolor": "white",
             "startlinecolor": "#2a3f5f"
            },
            "baxis": {
             "endlinecolor": "#2a3f5f",
             "gridcolor": "white",
             "linecolor": "white",
             "minorgridcolor": "white",
             "startlinecolor": "#2a3f5f"
            },
            "type": "carpet"
           }
          ],
          "choropleth": [
           {
            "colorbar": {
             "outlinewidth": 0,
             "ticks": ""
            },
            "type": "choropleth"
           }
          ],
          "contour": [
           {
            "colorbar": {
             "outlinewidth": 0,
             "ticks": ""
            },
            "colorscale": [
             [
              0,
              "#0d0887"
             ],
             [
              0.1111111111111111,
              "#46039f"
             ],
             [
              0.2222222222222222,
              "#7201a8"
             ],
             [
              0.3333333333333333,
              "#9c179e"
             ],
             [
              0.4444444444444444,
              "#bd3786"
             ],
             [
              0.5555555555555556,
              "#d8576b"
             ],
             [
              0.6666666666666666,
              "#ed7953"
             ],
             [
              0.7777777777777778,
              "#fb9f3a"
             ],
             [
              0.8888888888888888,
              "#fdca26"
             ],
             [
              1,
              "#f0f921"
             ]
            ],
            "type": "contour"
           }
          ],
          "contourcarpet": [
           {
            "colorbar": {
             "outlinewidth": 0,
             "ticks": ""
            },
            "type": "contourcarpet"
           }
          ],
          "heatmap": [
           {
            "colorbar": {
             "outlinewidth": 0,
             "ticks": ""
            },
            "colorscale": [
             [
              0,
              "#0d0887"
             ],
             [
              0.1111111111111111,
              "#46039f"
             ],
             [
              0.2222222222222222,
              "#7201a8"
             ],
             [
              0.3333333333333333,
              "#9c179e"
             ],
             [
              0.4444444444444444,
              "#bd3786"
             ],
             [
              0.5555555555555556,
              "#d8576b"
             ],
             [
              0.6666666666666666,
              "#ed7953"
             ],
             [
              0.7777777777777778,
              "#fb9f3a"
             ],
             [
              0.8888888888888888,
              "#fdca26"
             ],
             [
              1,
              "#f0f921"
             ]
            ],
            "type": "heatmap"
           }
          ],
          "histogram": [
           {
            "marker": {
             "pattern": {
              "fillmode": "overlay",
              "size": 10,
              "solidity": 0.2
             }
            },
            "type": "histogram"
           }
          ],
          "histogram2d": [
           {
            "colorbar": {
             "outlinewidth": 0,
             "ticks": ""
            },
            "colorscale": [
             [
              0,
              "#0d0887"
             ],
             [
              0.1111111111111111,
              "#46039f"
             ],
             [
              0.2222222222222222,
              "#7201a8"
             ],
             [
              0.3333333333333333,
              "#9c179e"
             ],
             [
              0.4444444444444444,
              "#bd3786"
             ],
             [
              0.5555555555555556,
              "#d8576b"
             ],
             [
              0.6666666666666666,
              "#ed7953"
             ],
             [
              0.7777777777777778,
              "#fb9f3a"
             ],
             [
              0.8888888888888888,
              "#fdca26"
             ],
             [
              1,
              "#f0f921"
             ]
            ],
            "type": "histogram2d"
           }
          ],
          "histogram2dcontour": [
           {
            "colorbar": {
             "outlinewidth": 0,
             "ticks": ""
            },
            "colorscale": [
             [
              0,
              "#0d0887"
             ],
             [
              0.1111111111111111,
              "#46039f"
             ],
             [
              0.2222222222222222,
              "#7201a8"
             ],
             [
              0.3333333333333333,
              "#9c179e"
             ],
             [
              0.4444444444444444,
              "#bd3786"
             ],
             [
              0.5555555555555556,
              "#d8576b"
             ],
             [
              0.6666666666666666,
              "#ed7953"
             ],
             [
              0.7777777777777778,
              "#fb9f3a"
             ],
             [
              0.8888888888888888,
              "#fdca26"
             ],
             [
              1,
              "#f0f921"
             ]
            ],
            "type": "histogram2dcontour"
           }
          ],
          "mesh3d": [
           {
            "colorbar": {
             "outlinewidth": 0,
             "ticks": ""
            },
            "type": "mesh3d"
           }
          ],
          "parcoords": [
           {
            "line": {
             "colorbar": {
              "outlinewidth": 0,
              "ticks": ""
             }
            },
            "type": "parcoords"
           }
          ],
          "pie": [
           {
            "automargin": true,
            "type": "pie"
           }
          ],
          "scatter": [
           {
            "fillpattern": {
             "fillmode": "overlay",
             "size": 10,
             "solidity": 0.2
            },
            "type": "scatter"
           }
          ],
          "scatter3d": [
           {
            "line": {
             "colorbar": {
              "outlinewidth": 0,
              "ticks": ""
             }
            },
            "marker": {
             "colorbar": {
              "outlinewidth": 0,
              "ticks": ""
             }
            },
            "type": "scatter3d"
           }
          ],
          "scattercarpet": [
           {
            "marker": {
             "colorbar": {
              "outlinewidth": 0,
              "ticks": ""
             }
            },
            "type": "scattercarpet"
           }
          ],
          "scattergeo": [
           {
            "marker": {
             "colorbar": {
              "outlinewidth": 0,
              "ticks": ""
             }
            },
            "type": "scattergeo"
           }
          ],
          "scattergl": [
           {
            "marker": {
             "colorbar": {
              "outlinewidth": 0,
              "ticks": ""
             }
            },
            "type": "scattergl"
           }
          ],
          "scattermap": [
           {
            "marker": {
             "colorbar": {
              "outlinewidth": 0,
              "ticks": ""
             }
            },
            "type": "scattermap"
           }
          ],
          "scattermapbox": [
           {
            "marker": {
             "colorbar": {
              "outlinewidth": 0,
              "ticks": ""
             }
            },
            "type": "scattermapbox"
           }
          ],
          "scatterpolar": [
           {
            "marker": {
             "colorbar": {
              "outlinewidth": 0,
              "ticks": ""
             }
            },
            "type": "scatterpolar"
           }
          ],
          "scatterpolargl": [
           {
            "marker": {
             "colorbar": {
              "outlinewidth": 0,
              "ticks": ""
             }
            },
            "type": "scatterpolargl"
           }
          ],
          "scatterternary": [
           {
            "marker": {
             "colorbar": {
              "outlinewidth": 0,
              "ticks": ""
             }
            },
            "type": "scatterternary"
           }
          ],
          "surface": [
           {
            "colorbar": {
             "outlinewidth": 0,
             "ticks": ""
            },
            "colorscale": [
             [
              0,
              "#0d0887"
             ],
             [
              0.1111111111111111,
              "#46039f"
             ],
             [
              0.2222222222222222,
              "#7201a8"
             ],
             [
              0.3333333333333333,
              "#9c179e"
             ],
             [
              0.4444444444444444,
              "#bd3786"
             ],
             [
              0.5555555555555556,
              "#d8576b"
             ],
             [
              0.6666666666666666,
              "#ed7953"
             ],
             [
              0.7777777777777778,
              "#fb9f3a"
             ],
             [
              0.8888888888888888,
              "#fdca26"
             ],
             [
              1,
              "#f0f921"
             ]
            ],
            "type": "surface"
           }
          ],
          "table": [
           {
            "cells": {
             "fill": {
              "color": "#EBF0F8"
             },
             "line": {
              "color": "white"
             }
            },
            "header": {
             "fill": {
              "color": "#C8D4E3"
             },
             "line": {
              "color": "white"
             }
            },
            "type": "table"
           }
          ]
         },
         "layout": {
          "annotationdefaults": {
           "arrowcolor": "#2a3f5f",
           "arrowhead": 0,
           "arrowwidth": 1
          },
          "autotypenumbers": "strict",
          "coloraxis": {
           "colorbar": {
            "outlinewidth": 0,
            "ticks": ""
           }
          },
          "colorscale": {
           "diverging": [
            [
             0,
             "#8e0152"
            ],
            [
             0.1,
             "#c51b7d"
            ],
            [
             0.2,
             "#de77ae"
            ],
            [
             0.3,
             "#f1b6da"
            ],
            [
             0.4,
             "#fde0ef"
            ],
            [
             0.5,
             "#f7f7f7"
            ],
            [
             0.6,
             "#e6f5d0"
            ],
            [
             0.7,
             "#b8e186"
            ],
            [
             0.8,
             "#7fbc41"
            ],
            [
             0.9,
             "#4d9221"
            ],
            [
             1,
             "#276419"
            ]
           ],
           "sequential": [
            [
             0,
             "#0d0887"
            ],
            [
             0.1111111111111111,
             "#46039f"
            ],
            [
             0.2222222222222222,
             "#7201a8"
            ],
            [
             0.3333333333333333,
             "#9c179e"
            ],
            [
             0.4444444444444444,
             "#bd3786"
            ],
            [
             0.5555555555555556,
             "#d8576b"
            ],
            [
             0.6666666666666666,
             "#ed7953"
            ],
            [
             0.7777777777777778,
             "#fb9f3a"
            ],
            [
             0.8888888888888888,
             "#fdca26"
            ],
            [
             1,
             "#f0f921"
            ]
           ],
           "sequentialminus": [
            [
             0,
             "#0d0887"
            ],
            [
             0.1111111111111111,
             "#46039f"
            ],
            [
             0.2222222222222222,
             "#7201a8"
            ],
            [
             0.3333333333333333,
             "#9c179e"
            ],
            [
             0.4444444444444444,
             "#bd3786"
            ],
            [
             0.5555555555555556,
             "#d8576b"
            ],
            [
             0.6666666666666666,
             "#ed7953"
            ],
            [
             0.7777777777777778,
             "#fb9f3a"
            ],
            [
             0.8888888888888888,
             "#fdca26"
            ],
            [
             1,
             "#f0f921"
            ]
           ]
          },
          "colorway": [
           "#636efa",
           "#EF553B",
           "#00cc96",
           "#ab63fa",
           "#FFA15A",
           "#19d3f3",
           "#FF6692",
           "#B6E880",
           "#FF97FF",
           "#FECB52"
          ],
          "font": {
           "color": "#2a3f5f"
          },
          "geo": {
           "bgcolor": "white",
           "lakecolor": "white",
           "landcolor": "#E5ECF6",
           "showlakes": true,
           "showland": true,
           "subunitcolor": "white"
          },
          "hoverlabel": {
           "align": "left"
          },
          "hovermode": "closest",
          "mapbox": {
           "style": "light"
          },
          "paper_bgcolor": "white",
          "plot_bgcolor": "#E5ECF6",
          "polar": {
           "angularaxis": {
            "gridcolor": "white",
            "linecolor": "white",
            "ticks": ""
           },
           "bgcolor": "#E5ECF6",
           "radialaxis": {
            "gridcolor": "white",
            "linecolor": "white",
            "ticks": ""
           }
          },
          "scene": {
           "xaxis": {
            "backgroundcolor": "#E5ECF6",
            "gridcolor": "white",
            "gridwidth": 2,
            "linecolor": "white",
            "showbackground": true,
            "ticks": "",
            "zerolinecolor": "white"
           },
           "yaxis": {
            "backgroundcolor": "#E5ECF6",
            "gridcolor": "white",
            "gridwidth": 2,
            "linecolor": "white",
            "showbackground": true,
            "ticks": "",
            "zerolinecolor": "white"
           },
           "zaxis": {
            "backgroundcolor": "#E5ECF6",
            "gridcolor": "white",
            "gridwidth": 2,
            "linecolor": "white",
            "showbackground": true,
            "ticks": "",
            "zerolinecolor": "white"
           }
          },
          "shapedefaults": {
           "line": {
            "color": "#2a3f5f"
           }
          },
          "ternary": {
           "aaxis": {
            "gridcolor": "white",
            "linecolor": "white",
            "ticks": ""
           },
           "baxis": {
            "gridcolor": "white",
            "linecolor": "white",
            "ticks": ""
           },
           "bgcolor": "#E5ECF6",
           "caxis": {
            "gridcolor": "white",
            "linecolor": "white",
            "ticks": ""
           }
          },
          "title": {
           "x": 0.05
          },
          "xaxis": {
           "automargin": true,
           "gridcolor": "white",
           "linecolor": "white",
           "ticks": "",
           "title": {
            "standoff": 15
           },
           "zerolinecolor": "white",
           "zerolinewidth": 2
          },
          "yaxis": {
           "automargin": true,
           "gridcolor": "white",
           "linecolor": "white",
           "ticks": "",
           "title": {
            "standoff": 15
           },
           "zerolinecolor": "white",
           "zerolinewidth": 2
          }
         }
        },
        "title": {
         "text": "<b>Segmentasi Pelanggan: Pendapatan vs. Skor Pengeluaran</b>"
        },
        "xaxis": {
         "anchor": "y",
         "domain": [
          0,
          1
         ],
         "title": {
          "text": "Pendapatan Tahunan (k$)"
         }
        },
        "yaxis": {
         "anchor": "x",
         "domain": [
          0,
          1
         ],
         "title": {
          "text": "Skor Pengeluaran"
         }
        }
       }
      }
     },
     "metadata": {},
     "output_type": "display_data"
    },
    {
     "data": {
      "application/vnd.plotly.v1+json": {
       "config": {
        "plotlyServerURL": "https://plot.ly"
       },
       "data": [
        {
         "customdata": [
          [
           1,
           "Male"
          ],
          [
           2,
           "Male"
          ],
          [
           3,
           "Female"
          ],
          [
           4,
           "Female"
          ],
          [
           5,
           "Female"
          ],
          [
           6,
           "Female"
          ],
          [
           7,
           "Female"
          ],
          [
           8,
           "Female"
          ],
          [
           9,
           "Male"
          ],
          [
           10,
           "Female"
          ],
          [
           11,
           "Male"
          ],
          [
           12,
           "Female"
          ],
          [
           13,
           "Female"
          ],
          [
           14,
           "Female"
          ],
          [
           15,
           "Male"
          ],
          [
           16,
           "Male"
          ],
          [
           17,
           "Female"
          ],
          [
           18,
           "Male"
          ],
          [
           19,
           "Male"
          ],
          [
           20,
           "Female"
          ],
          [
           21,
           "Male"
          ],
          [
           22,
           "Male"
          ],
          [
           23,
           "Female"
          ],
          [
           24,
           "Male"
          ],
          [
           25,
           "Female"
          ],
          [
           26,
           "Male"
          ],
          [
           27,
           "Female"
          ],
          [
           28,
           "Male"
          ],
          [
           29,
           "Female"
          ],
          [
           30,
           "Female"
          ],
          [
           31,
           "Male"
          ],
          [
           32,
           "Female"
          ],
          [
           33,
           "Male"
          ],
          [
           34,
           "Male"
          ],
          [
           35,
           "Female"
          ],
          [
           36,
           "Female"
          ],
          [
           37,
           "Female"
          ],
          [
           38,
           "Female"
          ],
          [
           39,
           "Female"
          ],
          [
           40,
           "Female"
          ],
          [
           41,
           "Female"
          ],
          [
           42,
           "Male"
          ],
          [
           43,
           "Male"
          ],
          [
           44,
           "Female"
          ],
          [
           45,
           "Female"
          ],
          [
           46,
           "Female"
          ],
          [
           47,
           "Female"
          ],
          [
           48,
           "Female"
          ],
          [
           49,
           "Female"
          ],
          [
           50,
           "Female"
          ],
          [
           51,
           "Female"
          ],
          [
           52,
           "Male"
          ],
          [
           53,
           "Female"
          ],
          [
           54,
           "Male"
          ],
          [
           55,
           "Female"
          ],
          [
           56,
           "Male"
          ],
          [
           57,
           "Female"
          ],
          [
           58,
           "Male"
          ],
          [
           59,
           "Female"
          ],
          [
           60,
           "Male"
          ],
          [
           61,
           "Male"
          ],
          [
           62,
           "Male"
          ],
          [
           63,
           "Female"
          ],
          [
           64,
           "Female"
          ],
          [
           65,
           "Male"
          ],
          [
           66,
           "Male"
          ],
          [
           67,
           "Female"
          ],
          [
           68,
           "Female"
          ],
          [
           69,
           "Male"
          ],
          [
           70,
           "Female"
          ],
          [
           71,
           "Male"
          ],
          [
           72,
           "Female"
          ],
          [
           73,
           "Female"
          ],
          [
           74,
           "Female"
          ],
          [
           75,
           "Male"
          ],
          [
           76,
           "Male"
          ],
          [
           77,
           "Female"
          ],
          [
           78,
           "Male"
          ],
          [
           79,
           "Female"
          ],
          [
           80,
           "Female"
          ],
          [
           81,
           "Male"
          ],
          [
           82,
           "Male"
          ],
          [
           83,
           "Male"
          ],
          [
           84,
           "Female"
          ],
          [
           85,
           "Female"
          ],
          [
           86,
           "Male"
          ],
          [
           87,
           "Female"
          ],
          [
           88,
           "Female"
          ],
          [
           89,
           "Female"
          ],
          [
           90,
           "Female"
          ],
          [
           91,
           "Female"
          ],
          [
           92,
           "Male"
          ],
          [
           93,
           "Male"
          ],
          [
           94,
           "Female"
          ],
          [
           95,
           "Female"
          ],
          [
           96,
           "Male"
          ],
          [
           97,
           "Female"
          ],
          [
           98,
           "Female"
          ],
          [
           99,
           "Male"
          ],
          [
           100,
           "Male"
          ],
          [
           101,
           "Female"
          ],
          [
           102,
           "Female"
          ],
          [
           103,
           "Male"
          ],
          [
           104,
           "Male"
          ],
          [
           105,
           "Male"
          ],
          [
           106,
           "Female"
          ],
          [
           107,
           "Female"
          ],
          [
           108,
           "Male"
          ],
          [
           109,
           "Male"
          ],
          [
           110,
           "Male"
          ],
          [
           111,
           "Male"
          ],
          [
           112,
           "Female"
          ],
          [
           113,
           "Female"
          ],
          [
           114,
           "Male"
          ],
          [
           115,
           "Female"
          ],
          [
           116,
           "Female"
          ],
          [
           117,
           "Female"
          ],
          [
           118,
           "Female"
          ],
          [
           119,
           "Female"
          ],
          [
           120,
           "Female"
          ],
          [
           121,
           "Male"
          ],
          [
           122,
           "Female"
          ],
          [
           123,
           "Female"
          ],
          [
           124,
           "Male"
          ],
          [
           125,
           "Female"
          ],
          [
           126,
           "Female"
          ],
          [
           127,
           "Male"
          ],
          [
           128,
           "Male"
          ],
          [
           129,
           "Male"
          ],
          [
           130,
           "Male"
          ],
          [
           131,
           "Male"
          ],
          [
           132,
           "Male"
          ],
          [
           133,
           "Female"
          ],
          [
           134,
           "Female"
          ],
          [
           135,
           "Male"
          ],
          [
           136,
           "Female"
          ],
          [
           137,
           "Female"
          ],
          [
           138,
           "Male"
          ],
          [
           139,
           "Male"
          ],
          [
           140,
           "Female"
          ],
          [
           141,
           "Female"
          ],
          [
           142,
           "Male"
          ],
          [
           143,
           "Female"
          ],
          [
           144,
           "Female"
          ],
          [
           145,
           "Male"
          ],
          [
           146,
           "Male"
          ],
          [
           147,
           "Male"
          ],
          [
           148,
           "Female"
          ],
          [
           149,
           "Female"
          ],
          [
           150,
           "Male"
          ],
          [
           151,
           "Male"
          ],
          [
           152,
           "Male"
          ],
          [
           153,
           "Female"
          ],
          [
           154,
           "Female"
          ],
          [
           155,
           "Female"
          ],
          [
           156,
           "Female"
          ],
          [
           157,
           "Male"
          ],
          [
           158,
           "Female"
          ],
          [
           159,
           "Male"
          ],
          [
           160,
           "Female"
          ],
          [
           161,
           "Female"
          ],
          [
           162,
           "Female"
          ],
          [
           163,
           "Male"
          ],
          [
           164,
           "Female"
          ],
          [
           165,
           "Male"
          ],
          [
           166,
           "Female"
          ],
          [
           167,
           "Male"
          ],
          [
           168,
           "Female"
          ],
          [
           169,
           "Female"
          ],
          [
           170,
           "Male"
          ],
          [
           171,
           "Male"
          ],
          [
           172,
           "Male"
          ],
          [
           173,
           "Male"
          ],
          [
           174,
           "Male"
          ],
          [
           175,
           "Female"
          ],
          [
           176,
           "Female"
          ],
          [
           177,
           "Male"
          ],
          [
           178,
           "Male"
          ],
          [
           179,
           "Male"
          ],
          [
           180,
           "Male"
          ],
          [
           181,
           "Female"
          ],
          [
           182,
           "Female"
          ],
          [
           183,
           "Male"
          ],
          [
           184,
           "Female"
          ],
          [
           185,
           "Female"
          ],
          [
           186,
           "Male"
          ],
          [
           187,
           "Female"
          ],
          [
           188,
           "Male"
          ],
          [
           189,
           "Female"
          ],
          [
           190,
           "Female"
          ],
          [
           191,
           "Female"
          ],
          [
           192,
           "Female"
          ],
          [
           193,
           "Male"
          ],
          [
           194,
           "Female"
          ],
          [
           195,
           "Female"
          ],
          [
           196,
           "Female"
          ],
          [
           197,
           "Female"
          ],
          [
           198,
           "Male"
          ],
          [
           199,
           "Male"
          ],
          [
           200,
           "Male"
          ]
         ],
         "hovertemplate": "Usia=%{x}<br>Pendapatan Tahunan (k$)=%{y}<br>Skor Pengeluaran=%{z}<br>CustomerID=%{customdata[0]}<br>Gender=%{customdata[1]}<br>Cluster=%{marker.color}<extra></extra>",
         "legendgroup": "",
         "marker": {
          "color": {
           "bdata": "AQAAAAEAAAAAAAAAAQAAAAEAAAABAAAAAAAAAAEAAAAAAAAAAQAAAAAAAAABAAAAAAAAAAEAAAAAAAAAAQAAAAAAAAABAAAAAAAAAAEAAAAAAAAAAQAAAAAAAAABAAAAAAAAAAEAAAAAAAAAAQAAAAAAAAABAAAAAAAAAAEAAAAAAAAAAQAAAAAAAAABAAAAAAAAAAEAAAAAAAAAAQAAAAQAAAABAAAAAAAAAAEAAAAAAAAAAQAAAAQAAAABAAAAAQAAAAEAAAAEAAAAAQAAAAEAAAAEAAAABAAAAAQAAAAEAAAABAAAAAEAAAAEAAAABAAAAAEAAAAEAAAABAAAAAQAAAABAAAABAAAAAQAAAABAAAAAQAAAAQAAAAEAAAABAAAAAQAAAAEAAAAAQAAAAQAAAAEAAAAAQAAAAQAAAAEAAAAAQAAAAQAAAAEAAAAAQAAAAQAAAAEAAAAAQAAAAEAAAAEAAAABAAAAAEAAAAEAAAABAAAAAEAAAABAAAABAAAAAEAAAAEAAAAAQAAAAEAAAAEAAAABAAAAAEAAAAEAAAAAQAAAAQAAAAEAAAABAAAAAQAAAAEAAAAAQAAAAMAAAABAAAAAQAAAAEAAAAEAAAABAAAAAQAAAAEAAAAAQAAAAMAAAACAAAAAgAAAAMAAAACAAAAAwAAAAIAAAADAAAAAgAAAAMAAAACAAAAAwAAAAIAAAADAAAAAgAAAAMAAAACAAAAAwAAAAIAAAADAAAAAgAAAAMAAAACAAAAAwAAAAIAAAADAAAAAgAAAAMAAAACAAAAAwAAAAIAAAADAAAAAgAAAAMAAAACAAAAAwAAAAIAAAADAAAAAgAAAAQAAAACAAAAAwAAAAIAAAADAAAAAgAAAAMAAAACAAAAAwAAAAIAAAADAAAAAgAAAAMAAAACAAAAAwAAAAIAAAADAAAAAgAAAAMAAAACAAAAAwAAAAIAAAADAAAAAgAAAAMAAAACAAAAAwAAAAIAAAADAAAAAgAAAAMAAAACAAAAAwAAAAIAAAADAAAAAgAAAAMAAAACAAAAAwAAAAIAAAA=",
           "dtype": "i4"
          },
          "coloraxis": "coloraxis",
          "symbol": "circle"
         },
         "mode": "markers",
         "name": "",
         "scene": "scene",
         "showlegend": false,
         "type": "scatter3d",
         "x": {
          "bdata": "ExUUFx8WIxdAHkMjOhglFiMUNCMjGS4fNh0tIygXPBU1EjEVKh4kFEEYMB8xGDIbHR8xIR87Mi8zRRs1RhNDNj8SK0QTIEYvPDw7Gi0oFzE5JkMuFTA3FiIyRBIwKCAYLxswFBcxQxoxFUI2REJBEyYTEhM/MTMyGyYoJxcfKyg7Ji8nGR8UHSwgEyM5IBwgGRwwICIiKycsJi8bJR4iHjgdEx8yJCohJCAoHCQkNB46GzsjJSAuHSkeNhwpJCIgISYvIy0gIB4=",
          "dtype": "i1"
         },
         "y": {
          "bdata": "DwAPABAAEAARABEAEgASABMAEwATABMAFAAUABQAFAAVABUAFwAXABgAGAAZABkAHAAcABwAHAAdAB0AHgAeACEAIQAhACEAIgAiACUAJQAmACYAJwAnACcAJwAoACgAKAAoACoAKgArACsAKwArACwALAAuAC4ALgAuAC8ALwAwADAAMAAwADAAMAAxADEAMgAyADYANgA2ADYANgA2ADYANgA2ADYANgA2ADkAOQA6ADoAOwA7ADwAPAA8ADwAPAA8AD0APQA+AD4APgA+AD4APgA/AD8APwA/AD8APwBAAEAAQQBBAEEAQQBDAEMAQwBDAEUARQBGAEYARwBHAEcARwBHAEcASABIAEkASQBJAEkASgBKAEsASwBMAEwATQBNAE0ATQBOAE4ATgBOAE4ATgBOAE4ATgBOAE4ATgBPAE8AUQBRAFUAVQBWAFYAVwBXAFcAVwBXAFcAWABYAFgAWABdAF0AYQBhAGIAYgBjAGMAZQBlAGcAZwBnAGcAcQBxAHgAeAB+AH4AiQCJAA==",
          "dtype": "i2"
         },
         "z": {
          "bdata": "J1EGTShMBl4DSA5jD00NTyNCHWIjSQVJDlIgPR9XBEkEXA5REUkaSyNcJD0cQTcvKio0PDY8LSkyLjMuODc0OzM7MjA7LzcqMTgvNjUwNCozNyksOS46NzwuNykxKCo0LzIqMSkwOzc4KjIuKzA0NiouMDIrOys5OCg6Wx1NI18LSwlLIkcFWAdJCkgFXShXDGEkShZaEVgUTBBZAU4BSSNTBV0aSxRfGz8NSwpcDVYPRQ5aIFYPWCdhGEQRVRdFCFsQTxxKElM=",
          "dtype": "i1"
         }
        }
       ],
       "layout": {
        "coloraxis": {
         "colorbar": {
          "title": {
           "text": "Cluster"
          }
         },
         "colorscale": [
          [
           0,
           "#0d0887"
          ],
          [
           0.1111111111111111,
           "#46039f"
          ],
          [
           0.2222222222222222,
           "#7201a8"
          ],
          [
           0.3333333333333333,
           "#9c179e"
          ],
          [
           0.4444444444444444,
           "#bd3786"
          ],
          [
           0.5555555555555556,
           "#d8576b"
          ],
          [
           0.6666666666666666,
           "#ed7953"
          ],
          [
           0.7777777777777778,
           "#fb9f3a"
          ],
          [
           0.8888888888888888,
           "#fdca26"
          ],
          [
           1,
           "#f0f921"
          ]
         ]
        },
        "legend": {
         "tracegroupgap": 0
        },
        "scene": {
         "domain": {
          "x": [
           0,
           1
          ],
          "y": [
           0,
           1
          ]
         },
         "xaxis": {
          "title": {
           "text": "Usia"
          }
         },
         "yaxis": {
          "title": {
           "text": "Pendapatan Tahunan (k$)"
          }
         },
         "zaxis": {
          "title": {
           "text": "Skor Pengeluaran"
          }
         }
        },
        "template": {
         "data": {
          "bar": [
           {
            "error_x": {
             "color": "#2a3f5f"
            },
            "error_y": {
             "color": "#2a3f5f"
            },
            "marker": {
             "line": {
              "color": "#E5ECF6",
              "width": 0.5
             },
             "pattern": {
              "fillmode": "overlay",
              "size": 10,
              "solidity": 0.2
             }
            },
            "type": "bar"
           }
          ],
          "barpolar": [
           {
            "marker": {
             "line": {
              "color": "#E5ECF6",
              "width": 0.5
             },
             "pattern": {
              "fillmode": "overlay",
              "size": 10,
              "solidity": 0.2
             }
            },
            "type": "barpolar"
           }
          ],
          "carpet": [
           {
            "aaxis": {
             "endlinecolor": "#2a3f5f",
             "gridcolor": "white",
             "linecolor": "white",
             "minorgridcolor": "white",
             "startlinecolor": "#2a3f5f"
            },
            "baxis": {
             "endlinecolor": "#2a3f5f",
             "gridcolor": "white",
             "linecolor": "white",
             "minorgridcolor": "white",
             "startlinecolor": "#2a3f5f"
            },
            "type": "carpet"
           }
          ],
          "choropleth": [
           {
            "colorbar": {
             "outlinewidth": 0,
             "ticks": ""
            },
            "type": "choropleth"
           }
          ],
          "contour": [
           {
            "colorbar": {
             "outlinewidth": 0,
             "ticks": ""
            },
            "colorscale": [
             [
              0,
              "#0d0887"
             ],
             [
              0.1111111111111111,
              "#46039f"
             ],
             [
              0.2222222222222222,
              "#7201a8"
             ],
             [
              0.3333333333333333,
              "#9c179e"
             ],
             [
              0.4444444444444444,
              "#bd3786"
             ],
             [
              0.5555555555555556,
              "#d8576b"
             ],
             [
              0.6666666666666666,
              "#ed7953"
             ],
             [
              0.7777777777777778,
              "#fb9f3a"
             ],
             [
              0.8888888888888888,
              "#fdca26"
             ],
             [
              1,
              "#f0f921"
             ]
            ],
            "type": "contour"
           }
          ],
          "contourcarpet": [
           {
            "colorbar": {
             "outlinewidth": 0,
             "ticks": ""
            },
            "type": "contourcarpet"
           }
          ],
          "heatmap": [
           {
            "colorbar": {
             "outlinewidth": 0,
             "ticks": ""
            },
            "colorscale": [
             [
              0,
              "#0d0887"
             ],
             [
              0.1111111111111111,
              "#46039f"
             ],
             [
              0.2222222222222222,
              "#7201a8"
             ],
             [
              0.3333333333333333,
              "#9c179e"
             ],
             [
              0.4444444444444444,
              "#bd3786"
             ],
             [
              0.5555555555555556,
              "#d8576b"
             ],
             [
              0.6666666666666666,
              "#ed7953"
             ],
             [
              0.7777777777777778,
              "#fb9f3a"
             ],
             [
              0.8888888888888888,
              "#fdca26"
             ],
             [
              1,
              "#f0f921"
             ]
            ],
            "type": "heatmap"
           }
          ],
          "histogram": [
           {
            "marker": {
             "pattern": {
              "fillmode": "overlay",
              "size": 10,
              "solidity": 0.2
             }
            },
            "type": "histogram"
           }
          ],
          "histogram2d": [
           {
            "colorbar": {
             "outlinewidth": 0,
             "ticks": ""
            },
            "colorscale": [
             [
              0,
              "#0d0887"
             ],
             [
              0.1111111111111111,
              "#46039f"
             ],
             [
              0.2222222222222222,
              "#7201a8"
             ],
             [
              0.3333333333333333,
              "#9c179e"
             ],
             [
              0.4444444444444444,
              "#bd3786"
             ],
             [
              0.5555555555555556,
              "#d8576b"
             ],
             [
              0.6666666666666666,
              "#ed7953"
             ],
             [
              0.7777777777777778,
              "#fb9f3a"
             ],
             [
              0.8888888888888888,
              "#fdca26"
             ],
             [
              1,
              "#f0f921"
             ]
            ],
            "type": "histogram2d"
           }
          ],
          "histogram2dcontour": [
           {
            "colorbar": {
             "outlinewidth": 0,
             "ticks": ""
            },
            "colorscale": [
             [
              0,
              "#0d0887"
             ],
             [
              0.1111111111111111,
              "#46039f"
             ],
             [
              0.2222222222222222,
              "#7201a8"
             ],
             [
              0.3333333333333333,
              "#9c179e"
             ],
             [
              0.4444444444444444,
              "#bd3786"
             ],
             [
              0.5555555555555556,
              "#d8576b"
             ],
             [
              0.6666666666666666,
              "#ed7953"
             ],
             [
              0.7777777777777778,
              "#fb9f3a"
             ],
             [
              0.8888888888888888,
              "#fdca26"
             ],
             [
              1,
              "#f0f921"
             ]
            ],
            "type": "histogram2dcontour"
           }
          ],
          "mesh3d": [
           {
            "colorbar": {
             "outlinewidth": 0,
             "ticks": ""
            },
            "type": "mesh3d"
           }
          ],
          "parcoords": [
           {
            "line": {
             "colorbar": {
              "outlinewidth": 0,
              "ticks": ""
             }
            },
            "type": "parcoords"
           }
          ],
          "pie": [
           {
            "automargin": true,
            "type": "pie"
           }
          ],
          "scatter": [
           {
            "fillpattern": {
             "fillmode": "overlay",
             "size": 10,
             "solidity": 0.2
            },
            "type": "scatter"
           }
          ],
          "scatter3d": [
           {
            "line": {
             "colorbar": {
              "outlinewidth": 0,
              "ticks": ""
             }
            },
            "marker": {
             "colorbar": {
              "outlinewidth": 0,
              "ticks": ""
             }
            },
            "type": "scatter3d"
           }
          ],
          "scattercarpet": [
           {
            "marker": {
             "colorbar": {
              "outlinewidth": 0,
              "ticks": ""
             }
            },
            "type": "scattercarpet"
           }
          ],
          "scattergeo": [
           {
            "marker": {
             "colorbar": {
              "outlinewidth": 0,
              "ticks": ""
             }
            },
            "type": "scattergeo"
           }
          ],
          "scattergl": [
           {
            "marker": {
             "colorbar": {
              "outlinewidth": 0,
              "ticks": ""
             }
            },
            "type": "scattergl"
           }
          ],
          "scattermap": [
           {
            "marker": {
             "colorbar": {
              "outlinewidth": 0,
              "ticks": ""
             }
            },
            "type": "scattermap"
           }
          ],
          "scattermapbox": [
           {
            "marker": {
             "colorbar": {
              "outlinewidth": 0,
              "ticks": ""
             }
            },
            "type": "scattermapbox"
           }
          ],
          "scatterpolar": [
           {
            "marker": {
             "colorbar": {
              "outlinewidth": 0,
              "ticks": ""
             }
            },
            "type": "scatterpolar"
           }
          ],
          "scatterpolargl": [
           {
            "marker": {
             "colorbar": {
              "outlinewidth": 0,
              "ticks": ""
             }
            },
            "type": "scatterpolargl"
           }
          ],
          "scatterternary": [
           {
            "marker": {
             "colorbar": {
              "outlinewidth": 0,
              "ticks": ""
             }
            },
            "type": "scatterternary"
           }
          ],
          "surface": [
           {
            "colorbar": {
             "outlinewidth": 0,
             "ticks": ""
            },
            "colorscale": [
             [
              0,
              "#0d0887"
             ],
             [
              0.1111111111111111,
              "#46039f"
             ],
             [
              0.2222222222222222,
              "#7201a8"
             ],
             [
              0.3333333333333333,
              "#9c179e"
             ],
             [
              0.4444444444444444,
              "#bd3786"
             ],
             [
              0.5555555555555556,
              "#d8576b"
             ],
             [
              0.6666666666666666,
              "#ed7953"
             ],
             [
              0.7777777777777778,
              "#fb9f3a"
             ],
             [
              0.8888888888888888,
              "#fdca26"
             ],
             [
              1,
              "#f0f921"
             ]
            ],
            "type": "surface"
           }
          ],
          "table": [
           {
            "cells": {
             "fill": {
              "color": "#EBF0F8"
             },
             "line": {
              "color": "white"
             }
            },
            "header": {
             "fill": {
              "color": "#C8D4E3"
             },
             "line": {
              "color": "white"
             }
            },
            "type": "table"
           }
          ]
         },
         "layout": {
          "annotationdefaults": {
           "arrowcolor": "#2a3f5f",
           "arrowhead": 0,
           "arrowwidth": 1
          },
          "autotypenumbers": "strict",
          "coloraxis": {
           "colorbar": {
            "outlinewidth": 0,
            "ticks": ""
           }
          },
          "colorscale": {
           "diverging": [
            [
             0,
             "#8e0152"
            ],
            [
             0.1,
             "#c51b7d"
            ],
            [
             0.2,
             "#de77ae"
            ],
            [
             0.3,
             "#f1b6da"
            ],
            [
             0.4,
             "#fde0ef"
            ],
            [
             0.5,
             "#f7f7f7"
            ],
            [
             0.6,
             "#e6f5d0"
            ],
            [
             0.7,
             "#b8e186"
            ],
            [
             0.8,
             "#7fbc41"
            ],
            [
             0.9,
             "#4d9221"
            ],
            [
             1,
             "#276419"
            ]
           ],
           "sequential": [
            [
             0,
             "#0d0887"
            ],
            [
             0.1111111111111111,
             "#46039f"
            ],
            [
             0.2222222222222222,
             "#7201a8"
            ],
            [
             0.3333333333333333,
             "#9c179e"
            ],
            [
             0.4444444444444444,
             "#bd3786"
            ],
            [
             0.5555555555555556,
             "#d8576b"
            ],
            [
             0.6666666666666666,
             "#ed7953"
            ],
            [
             0.7777777777777778,
             "#fb9f3a"
            ],
            [
             0.8888888888888888,
             "#fdca26"
            ],
            [
             1,
             "#f0f921"
            ]
           ],
           "sequentialminus": [
            [
             0,
             "#0d0887"
            ],
            [
             0.1111111111111111,
             "#46039f"
            ],
            [
             0.2222222222222222,
             "#7201a8"
            ],
            [
             0.3333333333333333,
             "#9c179e"
            ],
            [
             0.4444444444444444,
             "#bd3786"
            ],
            [
             0.5555555555555556,
             "#d8576b"
            ],
            [
             0.6666666666666666,
             "#ed7953"
            ],
            [
             0.7777777777777778,
             "#fb9f3a"
            ],
            [
             0.8888888888888888,
             "#fdca26"
            ],
            [
             1,
             "#f0f921"
            ]
           ]
          },
          "colorway": [
           "#636efa",
           "#EF553B",
           "#00cc96",
           "#ab63fa",
           "#FFA15A",
           "#19d3f3",
           "#FF6692",
           "#B6E880",
           "#FF97FF",
           "#FECB52"
          ],
          "font": {
           "color": "#2a3f5f"
          },
          "geo": {
           "bgcolor": "white",
           "lakecolor": "white",
           "landcolor": "#E5ECF6",
           "showlakes": true,
           "showland": true,
           "subunitcolor": "white"
          },
          "hoverlabel": {
           "align": "left"
          },
          "hovermode": "closest",
          "mapbox": {
           "style": "light"
          },
          "paper_bgcolor": "white",
          "plot_bgcolor": "#E5ECF6",
          "polar": {
           "angularaxis": {
            "gridcolor": "white",
            "linecolor": "white",
            "ticks": ""
           },
           "bgcolor": "#E5ECF6",
           "radialaxis": {
            "gridcolor": "white",
            "linecolor": "white",
            "ticks": ""
           }
          },
          "scene": {
           "xaxis": {
            "backgroundcolor": "#E5ECF6",
            "gridcolor": "white",
            "gridwidth": 2,
            "linecolor": "white",
            "showbackground": true,
            "ticks": "",
            "zerolinecolor": "white"
           },
           "yaxis": {
            "backgroundcolor": "#E5ECF6",
            "gridcolor": "white",
            "gridwidth": 2,
            "linecolor": "white",
            "showbackground": true,
            "ticks": "",
            "zerolinecolor": "white"
           },
           "zaxis": {
            "backgroundcolor": "#E5ECF6",
            "gridcolor": "white",
            "gridwidth": 2,
            "linecolor": "white",
            "showbackground": true,
            "ticks": "",
            "zerolinecolor": "white"
           }
          },
          "shapedefaults": {
           "line": {
            "color": "#2a3f5f"
           }
          },
          "ternary": {
           "aaxis": {
            "gridcolor": "white",
            "linecolor": "white",
            "ticks": ""
           },
           "baxis": {
            "gridcolor": "white",
            "linecolor": "white",
            "ticks": ""
           },
           "bgcolor": "#E5ECF6",
           "caxis": {
            "gridcolor": "white",
            "linecolor": "white",
            "ticks": ""
           }
          },
          "title": {
           "x": 0.05
          },
          "xaxis": {
           "automargin": true,
           "gridcolor": "white",
           "linecolor": "white",
           "ticks": "",
           "title": {
            "standoff": 15
           },
           "zerolinecolor": "white",
           "zerolinewidth": 2
          },
          "yaxis": {
           "automargin": true,
           "gridcolor": "white",
           "linecolor": "white",
           "ticks": "",
           "title": {
            "standoff": 15
           },
           "zerolinecolor": "white",
           "zerolinewidth": 2
          }
         }
        },
        "title": {
         "text": "<b>Visualisasi Cluster 3D</b>"
        }
       }
      }
     },
     "metadata": {},
     "output_type": "display_data"
    },
    {
     "data": {
      "application/vnd.plotly.v1+json": {
       "config": {
        "plotlyServerURL": "https://plot.ly"
       },
       "data": [
        {
         "customdata": {
          "bdata": "AAAAAAEAAAACAAAAAwAAAAQAAAA=",
          "dtype": "i4",
          "shape": "5, 1"
         },
         "domain": {
          "x": [
           0,
           1
          ],
          "y": [
           0,
           1
          ]
         },
         "hole": 0.3,
         "hovertemplate": "Cluster=%{customdata[0]}<br>Jumlah=%{value}<extra></extra>",
         "labels": {
          "bdata": "AAAAAAEAAAACAAAAAwAAAAQAAAA=",
          "dtype": "i4"
         },
         "legendgroup": "",
         "marker": {
          "colors": [
           "#636efa",
           "#EF553B",
           "#00cc96",
           "#ab63fa",
           "#FFA15A"
          ]
         },
         "name": "",
         "showlegend": true,
         "type": "pie",
         "values": {
          "bdata": "FDYoJy8=",
          "dtype": "i1"
         }
        }
       ],
       "layout": {
        "legend": {
         "tracegroupgap": 0
        },
        "template": {
         "data": {
          "bar": [
           {
            "error_x": {
             "color": "#2a3f5f"
            },
            "error_y": {
             "color": "#2a3f5f"
            },
            "marker": {
             "line": {
              "color": "#E5ECF6",
              "width": 0.5
             },
             "pattern": {
              "fillmode": "overlay",
              "size": 10,
              "solidity": 0.2
             }
            },
            "type": "bar"
           }
          ],
          "barpolar": [
           {
            "marker": {
             "line": {
              "color": "#E5ECF6",
              "width": 0.5
             },
             "pattern": {
              "fillmode": "overlay",
              "size": 10,
              "solidity": 0.2
             }
            },
            "type": "barpolar"
           }
          ],
          "carpet": [
           {
            "aaxis": {
             "endlinecolor": "#2a3f5f",
             "gridcolor": "white",
             "linecolor": "white",
             "minorgridcolor": "white",
             "startlinecolor": "#2a3f5f"
            },
            "baxis": {
             "endlinecolor": "#2a3f5f",
             "gridcolor": "white",
             "linecolor": "white",
             "minorgridcolor": "white",
             "startlinecolor": "#2a3f5f"
            },
            "type": "carpet"
           }
          ],
          "choropleth": [
           {
            "colorbar": {
             "outlinewidth": 0,
             "ticks": ""
            },
            "type": "choropleth"
           }
          ],
          "contour": [
           {
            "colorbar": {
             "outlinewidth": 0,
             "ticks": ""
            },
            "colorscale": [
             [
              0,
              "#0d0887"
             ],
             [
              0.1111111111111111,
              "#46039f"
             ],
             [
              0.2222222222222222,
              "#7201a8"
             ],
             [
              0.3333333333333333,
              "#9c179e"
             ],
             [
              0.4444444444444444,
              "#bd3786"
             ],
             [
              0.5555555555555556,
              "#d8576b"
             ],
             [
              0.6666666666666666,
              "#ed7953"
             ],
             [
              0.7777777777777778,
              "#fb9f3a"
             ],
             [
              0.8888888888888888,
              "#fdca26"
             ],
             [
              1,
              "#f0f921"
             ]
            ],
            "type": "contour"
           }
          ],
          "contourcarpet": [
           {
            "colorbar": {
             "outlinewidth": 0,
             "ticks": ""
            },
            "type": "contourcarpet"
           }
          ],
          "heatmap": [
           {
            "colorbar": {
             "outlinewidth": 0,
             "ticks": ""
            },
            "colorscale": [
             [
              0,
              "#0d0887"
             ],
             [
              0.1111111111111111,
              "#46039f"
             ],
             [
              0.2222222222222222,
              "#7201a8"
             ],
             [
              0.3333333333333333,
              "#9c179e"
             ],
             [
              0.4444444444444444,
              "#bd3786"
             ],
             [
              0.5555555555555556,
              "#d8576b"
             ],
             [
              0.6666666666666666,
              "#ed7953"
             ],
             [
              0.7777777777777778,
              "#fb9f3a"
             ],
             [
              0.8888888888888888,
              "#fdca26"
             ],
             [
              1,
              "#f0f921"
             ]
            ],
            "type": "heatmap"
           }
          ],
          "histogram": [
           {
            "marker": {
             "pattern": {
              "fillmode": "overlay",
              "size": 10,
              "solidity": 0.2
             }
            },
            "type": "histogram"
           }
          ],
          "histogram2d": [
           {
            "colorbar": {
             "outlinewidth": 0,
             "ticks": ""
            },
            "colorscale": [
             [
              0,
              "#0d0887"
             ],
             [
              0.1111111111111111,
              "#46039f"
             ],
             [
              0.2222222222222222,
              "#7201a8"
             ],
             [
              0.3333333333333333,
              "#9c179e"
             ],
             [
              0.4444444444444444,
              "#bd3786"
             ],
             [
              0.5555555555555556,
              "#d8576b"
             ],
             [
              0.6666666666666666,
              "#ed7953"
             ],
             [
              0.7777777777777778,
              "#fb9f3a"
             ],
             [
              0.8888888888888888,
              "#fdca26"
             ],
             [
              1,
              "#f0f921"
             ]
            ],
            "type": "histogram2d"
           }
          ],
          "histogram2dcontour": [
           {
            "colorbar": {
             "outlinewidth": 0,
             "ticks": ""
            },
            "colorscale": [
             [
              0,
              "#0d0887"
             ],
             [
              0.1111111111111111,
              "#46039f"
             ],
             [
              0.2222222222222222,
              "#7201a8"
             ],
             [
              0.3333333333333333,
              "#9c179e"
             ],
             [
              0.4444444444444444,
              "#bd3786"
             ],
             [
              0.5555555555555556,
              "#d8576b"
             ],
             [
              0.6666666666666666,
              "#ed7953"
             ],
             [
              0.7777777777777778,
              "#fb9f3a"
             ],
             [
              0.8888888888888888,
              "#fdca26"
             ],
             [
              1,
              "#f0f921"
             ]
            ],
            "type": "histogram2dcontour"
           }
          ],
          "mesh3d": [
           {
            "colorbar": {
             "outlinewidth": 0,
             "ticks": ""
            },
            "type": "mesh3d"
           }
          ],
          "parcoords": [
           {
            "line": {
             "colorbar": {
              "outlinewidth": 0,
              "ticks": ""
             }
            },
            "type": "parcoords"
           }
          ],
          "pie": [
           {
            "automargin": true,
            "type": "pie"
           }
          ],
          "scatter": [
           {
            "fillpattern": {
             "fillmode": "overlay",
             "size": 10,
             "solidity": 0.2
            },
            "type": "scatter"
           }
          ],
          "scatter3d": [
           {
            "line": {
             "colorbar": {
              "outlinewidth": 0,
              "ticks": ""
             }
            },
            "marker": {
             "colorbar": {
              "outlinewidth": 0,
              "ticks": ""
             }
            },
            "type": "scatter3d"
           }
          ],
          "scattercarpet": [
           {
            "marker": {
             "colorbar": {
              "outlinewidth": 0,
              "ticks": ""
             }
            },
            "type": "scattercarpet"
           }
          ],
          "scattergeo": [
           {
            "marker": {
             "colorbar": {
              "outlinewidth": 0,
              "ticks": ""
             }
            },
            "type": "scattergeo"
           }
          ],
          "scattergl": [
           {
            "marker": {
             "colorbar": {
              "outlinewidth": 0,
              "ticks": ""
             }
            },
            "type": "scattergl"
           }
          ],
          "scattermap": [
           {
            "marker": {
             "colorbar": {
              "outlinewidth": 0,
              "ticks": ""
             }
            },
            "type": "scattermap"
           }
          ],
          "scattermapbox": [
           {
            "marker": {
             "colorbar": {
              "outlinewidth": 0,
              "ticks": ""
             }
            },
            "type": "scattermapbox"
           }
          ],
          "scatterpolar": [
           {
            "marker": {
             "colorbar": {
              "outlinewidth": 0,
              "ticks": ""
             }
            },
            "type": "scatterpolar"
           }
          ],
          "scatterpolargl": [
           {
            "marker": {
             "colorbar": {
              "outlinewidth": 0,
              "ticks": ""
             }
            },
            "type": "scatterpolargl"
           }
          ],
          "scatterternary": [
           {
            "marker": {
             "colorbar": {
              "outlinewidth": 0,
              "ticks": ""
             }
            },
            "type": "scatterternary"
           }
          ],
          "surface": [
           {
            "colorbar": {
             "outlinewidth": 0,
             "ticks": ""
            },
            "colorscale": [
             [
              0,
              "#0d0887"
             ],
             [
              0.1111111111111111,
              "#46039f"
             ],
             [
              0.2222222222222222,
              "#7201a8"
             ],
             [
              0.3333333333333333,
              "#9c179e"
             ],
             [
              0.4444444444444444,
              "#bd3786"
             ],
             [
              0.5555555555555556,
              "#d8576b"
             ],
             [
              0.6666666666666666,
              "#ed7953"
             ],
             [
              0.7777777777777778,
              "#fb9f3a"
             ],
             [
              0.8888888888888888,
              "#fdca26"
             ],
             [
              1,
              "#f0f921"
             ]
            ],
            "type": "surface"
           }
          ],
          "table": [
           {
            "cells": {
             "fill": {
              "color": "#EBF0F8"
             },
             "line": {
              "color": "white"
             }
            },
            "header": {
             "fill": {
              "color": "#C8D4E3"
             },
             "line": {
              "color": "white"
             }
            },
            "type": "table"
           }
          ]
         },
         "layout": {
          "annotationdefaults": {
           "arrowcolor": "#2a3f5f",
           "arrowhead": 0,
           "arrowwidth": 1
          },
          "autotypenumbers": "strict",
          "coloraxis": {
           "colorbar": {
            "outlinewidth": 0,
            "ticks": ""
           }
          },
          "colorscale": {
           "diverging": [
            [
             0,
             "#8e0152"
            ],
            [
             0.1,
             "#c51b7d"
            ],
            [
             0.2,
             "#de77ae"
            ],
            [
             0.3,
             "#f1b6da"
            ],
            [
             0.4,
             "#fde0ef"
            ],
            [
             0.5,
             "#f7f7f7"
            ],
            [
             0.6,
             "#e6f5d0"
            ],
            [
             0.7,
             "#b8e186"
            ],
            [
             0.8,
             "#7fbc41"
            ],
            [
             0.9,
             "#4d9221"
            ],
            [
             1,
             "#276419"
            ]
           ],
           "sequential": [
            [
             0,
             "#0d0887"
            ],
            [
             0.1111111111111111,
             "#46039f"
            ],
            [
             0.2222222222222222,
             "#7201a8"
            ],
            [
             0.3333333333333333,
             "#9c179e"
            ],
            [
             0.4444444444444444,
             "#bd3786"
            ],
            [
             0.5555555555555556,
             "#d8576b"
            ],
            [
             0.6666666666666666,
             "#ed7953"
            ],
            [
             0.7777777777777778,
             "#fb9f3a"
            ],
            [
             0.8888888888888888,
             "#fdca26"
            ],
            [
             1,
             "#f0f921"
            ]
           ],
           "sequentialminus": [
            [
             0,
             "#0d0887"
            ],
            [
             0.1111111111111111,
             "#46039f"
            ],
            [
             0.2222222222222222,
             "#7201a8"
            ],
            [
             0.3333333333333333,
             "#9c179e"
            ],
            [
             0.4444444444444444,
             "#bd3786"
            ],
            [
             0.5555555555555556,
             "#d8576b"
            ],
            [
             0.6666666666666666,
             "#ed7953"
            ],
            [
             0.7777777777777778,
             "#fb9f3a"
            ],
            [
             0.8888888888888888,
             "#fdca26"
            ],
            [
             1,
             "#f0f921"
            ]
           ]
          },
          "colorway": [
           "#636efa",
           "#EF553B",
           "#00cc96",
           "#ab63fa",
           "#FFA15A",
           "#19d3f3",
           "#FF6692",
           "#B6E880",
           "#FF97FF",
           "#FECB52"
          ],
          "font": {
           "color": "#2a3f5f"
          },
          "geo": {
           "bgcolor": "white",
           "lakecolor": "white",
           "landcolor": "#E5ECF6",
           "showlakes": true,
           "showland": true,
           "subunitcolor": "white"
          },
          "hoverlabel": {
           "align": "left"
          },
          "hovermode": "closest",
          "mapbox": {
           "style": "light"
          },
          "paper_bgcolor": "white",
          "plot_bgcolor": "#E5ECF6",
          "polar": {
           "angularaxis": {
            "gridcolor": "white",
            "linecolor": "white",
            "ticks": ""
           },
           "bgcolor": "#E5ECF6",
           "radialaxis": {
            "gridcolor": "white",
            "linecolor": "white",
            "ticks": ""
           }
          },
          "scene": {
           "xaxis": {
            "backgroundcolor": "#E5ECF6",
            "gridcolor": "white",
            "gridwidth": 2,
            "linecolor": "white",
            "showbackground": true,
            "ticks": "",
            "zerolinecolor": "white"
           },
           "yaxis": {
            "backgroundcolor": "#E5ECF6",
            "gridcolor": "white",
            "gridwidth": 2,
            "linecolor": "white",
            "showbackground": true,
            "ticks": "",
            "zerolinecolor": "white"
           },
           "zaxis": {
            "backgroundcolor": "#E5ECF6",
            "gridcolor": "white",
            "gridwidth": 2,
            "linecolor": "white",
            "showbackground": true,
            "ticks": "",
            "zerolinecolor": "white"
           }
          },
          "shapedefaults": {
           "line": {
            "color": "#2a3f5f"
           }
          },
          "ternary": {
           "aaxis": {
            "gridcolor": "white",
            "linecolor": "white",
            "ticks": ""
           },
           "baxis": {
            "gridcolor": "white",
            "linecolor": "white",
            "ticks": ""
           },
           "bgcolor": "#E5ECF6",
           "caxis": {
            "gridcolor": "white",
            "linecolor": "white",
            "ticks": ""
           }
          },
          "title": {
           "x": 0.05
          },
          "xaxis": {
           "automargin": true,
           "gridcolor": "white",
           "linecolor": "white",
           "ticks": "",
           "title": {
            "standoff": 15
           },
           "zerolinecolor": "white",
           "zerolinewidth": 2
          },
          "yaxis": {
           "automargin": true,
           "gridcolor": "white",
           "linecolor": "white",
           "ticks": "",
           "title": {
            "standoff": 15
           },
           "zerolinecolor": "white",
           "zerolinewidth": 2
          }
         }
        },
        "title": {
         "text": "<b>Distribusi Pelanggan Berdasarkan Cluster</b>"
        }
       }
      }
     },
     "metadata": {},
     "output_type": "display_data"
    },
    {
     "data": {
      "application/vnd.plotly.v1+json": {
       "config": {
        "plotlyServerURL": "https://plot.ly"
       },
       "data": [
        {
         "bingroup": "x",
         "hovertemplate": "Cluster=1<br>Usia=%{x}<br>count=%{y}<extra></extra>",
         "legendgroup": "1",
         "marker": {
          "color": "#636efa",
          "pattern": {
           "shape": ""
          }
         },
         "name": "1",
         "orientation": "v",
         "showlegend": true,
         "type": "histogram",
         "x": {
          "bdata": "ExUXHxYXHiMYFhQjGR8dIxcVEhUeFBgfGBsdHyEfGxMSEyAaFyYVFiISIBgbFBcaFRMTEhMb",
          "dtype": "i1"
         },
         "xaxis": "x",
         "yaxis": "y"
        },
        {
         "hovertemplate": "Cluster=1<br>Usia=%{x}<extra></extra>",
         "legendgroup": "1",
         "marker": {
          "color": "#636efa"
         },
         "name": "1",
         "notched": true,
         "showlegend": false,
         "type": "box",
         "x": {
          "bdata": "ExUXHxYXHiMYFhQjGR8dIxcVEhUeFBgfGBsdHyEfGxMSEyAaFyYVFiISIBgbFBcaFRMTEhMb",
          "dtype": "i1"
         },
         "xaxis": "x2",
         "yaxis": "y2"
        },
        {
         "bingroup": "x",
         "hovertemplate": "Cluster=0<br>Usia=%{x}<br>count=%{y}<extra></extra>",
         "legendgroup": "0",
         "marker": {
          "color": "#EF553B",
          "pattern": {
           "shape": ""
          }
         },
         "name": "0",
         "orientation": "v",
         "showlegend": true,
         "type": "histogram",
         "x": {
          "bdata": "FCNAQzolIzQjLjYtKDw1MSokMDE=",
          "dtype": "i1"
         },
         "xaxis": "x",
         "yaxis": "y"
        },
        {
         "hovertemplate": "Cluster=0<br>Usia=%{x}<extra></extra>",
         "legendgroup": "0",
         "marker": {
          "color": "#EF553B"
         },
         "name": "0",
         "notched": true,
         "showlegend": false,
         "type": "box",
         "x": {
          "bdata": "FCNAQzolIzQjLjYtKDw1MSokMDE=",
          "dtype": "i1"
         },
         "xaxis": "x2",
         "yaxis": "y2"
        },
        {
         "bingroup": "x",
         "hovertemplate": "Cluster=4<br>Usia=%{x}<br>count=%{y}<extra></extra>",
         "legendgroup": "4",
         "marker": {
          "color": "#00cc96",
          "pattern": {
           "shape": ""
          }
         },
         "name": "4",
         "orientation": "v",
         "showlegend": true,
         "type": "histogram",
         "x": {
          "bdata": "QTIxOzIvM0U1RkM2PytERi88PDstKDE5Qy4wNzJEMCgvMDFDMUI2REJBPzEzMjg=",
          "dtype": "i1"
         },
         "xaxis": "x",
         "yaxis": "y"
        },
        {
         "hovertemplate": "Cluster=4<br>Usia=%{x}<extra></extra>",
         "legendgroup": "4",
         "marker": {
          "color": "#00cc96"
         },
         "name": "4",
         "notched": true,
         "showlegend": false,
         "type": "box",
         "x": {
          "bdata": "QTIxOzIvM0U1RkM2PytERi88PDstKDE5Qy4wNzJEMCgvMDFDMUI2REJBPzEzMjg=",
          "dtype": "i1"
         },
         "xaxis": "x2",
         "yaxis": "y2"
        },
        {
         "bingroup": "x",
         "hovertemplate": "Cluster=3<br>Usia=%{x}<br>count=%{y}<extra></extra>",
         "legendgroup": "3",
         "marker": {
          "color": "#ab63fa",
          "pattern": {
           "shape": ""
          }
         },
         "name": "3",
         "orientation": "v",
         "showlegend": true,
         "type": "histogram",
         "x": {
          "bdata": "JiYXKzsvGRQsEzkcGTAiKywvJSITMiokKCQ0OjslLik2KSIhLy0g",
          "dtype": "i1"
         },
         "xaxis": "x",
         "yaxis": "y"
        },
        {
         "hovertemplate": "Cluster=3<br>Usia=%{x}<extra></extra>",
         "legendgroup": "3",
         "marker": {
          "color": "#ab63fa"
         },
         "name": "3",
         "notched": true,
         "showlegend": false,
         "type": "box",
         "x": {
          "bdata": "JiYXKzsvGRQsEzkcGTAiKywvJSITMiokKCQ0OjslLik2KSIhLy0g",
          "dtype": "i1"
         },
         "xaxis": "x2",
         "yaxis": "y2"
        },
        {
         "bingroup": "x",
         "hovertemplate": "Cluster=2<br>Usia=%{x}<br>count=%{y}<extra></extra>",
         "legendgroup": "2",
         "marker": {
          "color": "#FFA15A",
          "pattern": {
           "shape": ""
          }
         },
         "name": "2",
         "orientation": "v",
         "showlegend": true,
         "type": "histogram",
         "x": {
          "bdata": "KCcfKCYnHx0gIyAgHCAiJyYbHh4dHyQhIBwkHhsjIB0eHCQgJiMgHg==",
          "dtype": "i1"
         },
         "xaxis": "x",
         "yaxis": "y"
        },
        {
         "hovertemplate": "Cluster=2<br>Usia=%{x}<extra></extra>",
         "legendgroup": "2",
         "marker": {
          "color": "#FFA15A"
         },
         "name": "2",
         "notched": true,
         "showlegend": false,
         "type": "box",
         "x": {
          "bdata": "KCcfKCYnHx0gIyAgHCAiJyYbHh4dHyQhIBwkHhsjIB0eHCQgJiMgHg==",
          "dtype": "i1"
         },
         "xaxis": "x2",
         "yaxis": "y2"
        }
       ],
       "layout": {
        "barmode": "relative",
        "legend": {
         "title": {
          "text": "Cluster"
         },
         "tracegroupgap": 0
        },
        "template": {
         "data": {
          "bar": [
           {
            "error_x": {
             "color": "#2a3f5f"
            },
            "error_y": {
             "color": "#2a3f5f"
            },
            "marker": {
             "line": {
              "color": "#E5ECF6",
              "width": 0.5
             },
             "pattern": {
              "fillmode": "overlay",
              "size": 10,
              "solidity": 0.2
             }
            },
            "type": "bar"
           }
          ],
          "barpolar": [
           {
            "marker": {
             "line": {
              "color": "#E5ECF6",
              "width": 0.5
             },
             "pattern": {
              "fillmode": "overlay",
              "size": 10,
              "solidity": 0.2
             }
            },
            "type": "barpolar"
           }
          ],
          "carpet": [
           {
            "aaxis": {
             "endlinecolor": "#2a3f5f",
             "gridcolor": "white",
             "linecolor": "white",
             "minorgridcolor": "white",
             "startlinecolor": "#2a3f5f"
            },
            "baxis": {
             "endlinecolor": "#2a3f5f",
             "gridcolor": "white",
             "linecolor": "white",
             "minorgridcolor": "white",
             "startlinecolor": "#2a3f5f"
            },
            "type": "carpet"
           }
          ],
          "choropleth": [
           {
            "colorbar": {
             "outlinewidth": 0,
             "ticks": ""
            },
            "type": "choropleth"
           }
          ],
          "contour": [
           {
            "colorbar": {
             "outlinewidth": 0,
             "ticks": ""
            },
            "colorscale": [
             [
              0,
              "#0d0887"
             ],
             [
              0.1111111111111111,
              "#46039f"
             ],
             [
              0.2222222222222222,
              "#7201a8"
             ],
             [
              0.3333333333333333,
              "#9c179e"
             ],
             [
              0.4444444444444444,
              "#bd3786"
             ],
             [
              0.5555555555555556,
              "#d8576b"
             ],
             [
              0.6666666666666666,
              "#ed7953"
             ],
             [
              0.7777777777777778,
              "#fb9f3a"
             ],
             [
              0.8888888888888888,
              "#fdca26"
             ],
             [
              1,
              "#f0f921"
             ]
            ],
            "type": "contour"
           }
          ],
          "contourcarpet": [
           {
            "colorbar": {
             "outlinewidth": 0,
             "ticks": ""
            },
            "type": "contourcarpet"
           }
          ],
          "heatmap": [
           {
            "colorbar": {
             "outlinewidth": 0,
             "ticks": ""
            },
            "colorscale": [
             [
              0,
              "#0d0887"
             ],
             [
              0.1111111111111111,
              "#46039f"
             ],
             [
              0.2222222222222222,
              "#7201a8"
             ],
             [
              0.3333333333333333,
              "#9c179e"
             ],
             [
              0.4444444444444444,
              "#bd3786"
             ],
             [
              0.5555555555555556,
              "#d8576b"
             ],
             [
              0.6666666666666666,
              "#ed7953"
             ],
             [
              0.7777777777777778,
              "#fb9f3a"
             ],
             [
              0.8888888888888888,
              "#fdca26"
             ],
             [
              1,
              "#f0f921"
             ]
            ],
            "type": "heatmap"
           }
          ],
          "histogram": [
           {
            "marker": {
             "pattern": {
              "fillmode": "overlay",
              "size": 10,
              "solidity": 0.2
             }
            },
            "type": "histogram"
           }
          ],
          "histogram2d": [
           {
            "colorbar": {
             "outlinewidth": 0,
             "ticks": ""
            },
            "colorscale": [
             [
              0,
              "#0d0887"
             ],
             [
              0.1111111111111111,
              "#46039f"
             ],
             [
              0.2222222222222222,
              "#7201a8"
             ],
             [
              0.3333333333333333,
              "#9c179e"
             ],
             [
              0.4444444444444444,
              "#bd3786"
             ],
             [
              0.5555555555555556,
              "#d8576b"
             ],
             [
              0.6666666666666666,
              "#ed7953"
             ],
             [
              0.7777777777777778,
              "#fb9f3a"
             ],
             [
              0.8888888888888888,
              "#fdca26"
             ],
             [
              1,
              "#f0f921"
             ]
            ],
            "type": "histogram2d"
           }
          ],
          "histogram2dcontour": [
           {
            "colorbar": {
             "outlinewidth": 0,
             "ticks": ""
            },
            "colorscale": [
             [
              0,
              "#0d0887"
             ],
             [
              0.1111111111111111,
              "#46039f"
             ],
             [
              0.2222222222222222,
              "#7201a8"
             ],
             [
              0.3333333333333333,
              "#9c179e"
             ],
             [
              0.4444444444444444,
              "#bd3786"
             ],
             [
              0.5555555555555556,
              "#d8576b"
             ],
             [
              0.6666666666666666,
              "#ed7953"
             ],
             [
              0.7777777777777778,
              "#fb9f3a"
             ],
             [
              0.8888888888888888,
              "#fdca26"
             ],
             [
              1,
              "#f0f921"
             ]
            ],
            "type": "histogram2dcontour"
           }
          ],
          "mesh3d": [
           {
            "colorbar": {
             "outlinewidth": 0,
             "ticks": ""
            },
            "type": "mesh3d"
           }
          ],
          "parcoords": [
           {
            "line": {
             "colorbar": {
              "outlinewidth": 0,
              "ticks": ""
             }
            },
            "type": "parcoords"
           }
          ],
          "pie": [
           {
            "automargin": true,
            "type": "pie"
           }
          ],
          "scatter": [
           {
            "fillpattern": {
             "fillmode": "overlay",
             "size": 10,
             "solidity": 0.2
            },
            "type": "scatter"
           }
          ],
          "scatter3d": [
           {
            "line": {
             "colorbar": {
              "outlinewidth": 0,
              "ticks": ""
             }
            },
            "marker": {
             "colorbar": {
              "outlinewidth": 0,
              "ticks": ""
             }
            },
            "type": "scatter3d"
           }
          ],
          "scattercarpet": [
           {
            "marker": {
             "colorbar": {
              "outlinewidth": 0,
              "ticks": ""
             }
            },
            "type": "scattercarpet"
           }
          ],
          "scattergeo": [
           {
            "marker": {
             "colorbar": {
              "outlinewidth": 0,
              "ticks": ""
             }
            },
            "type": "scattergeo"
           }
          ],
          "scattergl": [
           {
            "marker": {
             "colorbar": {
              "outlinewidth": 0,
              "ticks": ""
             }
            },
            "type": "scattergl"
           }
          ],
          "scattermap": [
           {
            "marker": {
             "colorbar": {
              "outlinewidth": 0,
              "ticks": ""
             }
            },
            "type": "scattermap"
           }
          ],
          "scattermapbox": [
           {
            "marker": {
             "colorbar": {
              "outlinewidth": 0,
              "ticks": ""
             }
            },
            "type": "scattermapbox"
           }
          ],
          "scatterpolar": [
           {
            "marker": {
             "colorbar": {
              "outlinewidth": 0,
              "ticks": ""
             }
            },
            "type": "scatterpolar"
           }
          ],
          "scatterpolargl": [
           {
            "marker": {
             "colorbar": {
              "outlinewidth": 0,
              "ticks": ""
             }
            },
            "type": "scatterpolargl"
           }
          ],
          "scatterternary": [
           {
            "marker": {
             "colorbar": {
              "outlinewidth": 0,
              "ticks": ""
             }
            },
            "type": "scatterternary"
           }
          ],
          "surface": [
           {
            "colorbar": {
             "outlinewidth": 0,
             "ticks": ""
            },
            "colorscale": [
             [
              0,
              "#0d0887"
             ],
             [
              0.1111111111111111,
              "#46039f"
             ],
             [
              0.2222222222222222,
              "#7201a8"
             ],
             [
              0.3333333333333333,
              "#9c179e"
             ],
             [
              0.4444444444444444,
              "#bd3786"
             ],
             [
              0.5555555555555556,
              "#d8576b"
             ],
             [
              0.6666666666666666,
              "#ed7953"
             ],
             [
              0.7777777777777778,
              "#fb9f3a"
             ],
             [
              0.8888888888888888,
              "#fdca26"
             ],
             [
              1,
              "#f0f921"
             ]
            ],
            "type": "surface"
           }
          ],
          "table": [
           {
            "cells": {
             "fill": {
              "color": "#EBF0F8"
             },
             "line": {
              "color": "white"
             }
            },
            "header": {
             "fill": {
              "color": "#C8D4E3"
             },
             "line": {
              "color": "white"
             }
            },
            "type": "table"
           }
          ]
         },
         "layout": {
          "annotationdefaults": {
           "arrowcolor": "#2a3f5f",
           "arrowhead": 0,
           "arrowwidth": 1
          },
          "autotypenumbers": "strict",
          "coloraxis": {
           "colorbar": {
            "outlinewidth": 0,
            "ticks": ""
           }
          },
          "colorscale": {
           "diverging": [
            [
             0,
             "#8e0152"
            ],
            [
             0.1,
             "#c51b7d"
            ],
            [
             0.2,
             "#de77ae"
            ],
            [
             0.3,
             "#f1b6da"
            ],
            [
             0.4,
             "#fde0ef"
            ],
            [
             0.5,
             "#f7f7f7"
            ],
            [
             0.6,
             "#e6f5d0"
            ],
            [
             0.7,
             "#b8e186"
            ],
            [
             0.8,
             "#7fbc41"
            ],
            [
             0.9,
             "#4d9221"
            ],
            [
             1,
             "#276419"
            ]
           ],
           "sequential": [
            [
             0,
             "#0d0887"
            ],
            [
             0.1111111111111111,
             "#46039f"
            ],
            [
             0.2222222222222222,
             "#7201a8"
            ],
            [
             0.3333333333333333,
             "#9c179e"
            ],
            [
             0.4444444444444444,
             "#bd3786"
            ],
            [
             0.5555555555555556,
             "#d8576b"
            ],
            [
             0.6666666666666666,
             "#ed7953"
            ],
            [
             0.7777777777777778,
             "#fb9f3a"
            ],
            [
             0.8888888888888888,
             "#fdca26"
            ],
            [
             1,
             "#f0f921"
            ]
           ],
           "sequentialminus": [
            [
             0,
             "#0d0887"
            ],
            [
             0.1111111111111111,
             "#46039f"
            ],
            [
             0.2222222222222222,
             "#7201a8"
            ],
            [
             0.3333333333333333,
             "#9c179e"
            ],
            [
             0.4444444444444444,
             "#bd3786"
            ],
            [
             0.5555555555555556,
             "#d8576b"
            ],
            [
             0.6666666666666666,
             "#ed7953"
            ],
            [
             0.7777777777777778,
             "#fb9f3a"
            ],
            [
             0.8888888888888888,
             "#fdca26"
            ],
            [
             1,
             "#f0f921"
            ]
           ]
          },
          "colorway": [
           "#636efa",
           "#EF553B",
           "#00cc96",
           "#ab63fa",
           "#FFA15A",
           "#19d3f3",
           "#FF6692",
           "#B6E880",
           "#FF97FF",
           "#FECB52"
          ],
          "font": {
           "color": "#2a3f5f"
          },
          "geo": {
           "bgcolor": "white",
           "lakecolor": "white",
           "landcolor": "#E5ECF6",
           "showlakes": true,
           "showland": true,
           "subunitcolor": "white"
          },
          "hoverlabel": {
           "align": "left"
          },
          "hovermode": "closest",
          "mapbox": {
           "style": "light"
          },
          "paper_bgcolor": "white",
          "plot_bgcolor": "#E5ECF6",
          "polar": {
           "angularaxis": {
            "gridcolor": "white",
            "linecolor": "white",
            "ticks": ""
           },
           "bgcolor": "#E5ECF6",
           "radialaxis": {
            "gridcolor": "white",
            "linecolor": "white",
            "ticks": ""
           }
          },
          "scene": {
           "xaxis": {
            "backgroundcolor": "#E5ECF6",
            "gridcolor": "white",
            "gridwidth": 2,
            "linecolor": "white",
            "showbackground": true,
            "ticks": "",
            "zerolinecolor": "white"
           },
           "yaxis": {
            "backgroundcolor": "#E5ECF6",
            "gridcolor": "white",
            "gridwidth": 2,
            "linecolor": "white",
            "showbackground": true,
            "ticks": "",
            "zerolinecolor": "white"
           },
           "zaxis": {
            "backgroundcolor": "#E5ECF6",
            "gridcolor": "white",
            "gridwidth": 2,
            "linecolor": "white",
            "showbackground": true,
            "ticks": "",
            "zerolinecolor": "white"
           }
          },
          "shapedefaults": {
           "line": {
            "color": "#2a3f5f"
           }
          },
          "ternary": {
           "aaxis": {
            "gridcolor": "white",
            "linecolor": "white",
            "ticks": ""
           },
           "baxis": {
            "gridcolor": "white",
            "linecolor": "white",
            "ticks": ""
           },
           "bgcolor": "#E5ECF6",
           "caxis": {
            "gridcolor": "white",
            "linecolor": "white",
            "ticks": ""
           }
          },
          "title": {
           "x": 0.05
          },
          "xaxis": {
           "automargin": true,
           "gridcolor": "white",
           "linecolor": "white",
           "ticks": "",
           "title": {
            "standoff": 15
           },
           "zerolinecolor": "white",
           "zerolinewidth": 2
          },
          "yaxis": {
           "automargin": true,
           "gridcolor": "white",
           "linecolor": "white",
           "ticks": "",
           "title": {
            "standoff": 15
           },
           "zerolinecolor": "white",
           "zerolinewidth": 2
          }
         }
        },
        "title": {
         "text": "<b>Distribusi Usia Berdasarkan Cluster</b>"
        },
        "xaxis": {
         "anchor": "y",
         "domain": [
          0,
          1
         ],
         "title": {
          "text": "Usia"
         }
        },
        "xaxis2": {
         "anchor": "y2",
         "domain": [
          0,
          1
         ],
         "matches": "x",
         "showgrid": true,
         "showticklabels": false
        },
        "yaxis": {
         "anchor": "x",
         "domain": [
          0,
          0.7326
         ],
         "title": {
          "text": "count"
         }
        },
        "yaxis2": {
         "anchor": "x2",
         "domain": [
          0.7426,
          1
         ],
         "matches": "y2",
         "showgrid": false,
         "showline": false,
         "showticklabels": false,
         "ticks": ""
        }
       }
      }
     },
     "metadata": {},
     "output_type": "display_data"
    },
    {
     "name": "stdout",
     "output_type": "stream",
     "text": [
      "\n",
      "Proses clustering selesai! Pelanggan telah disegmentasi menjadi 5 kelompok yang berbeda.\n",
      "Clustering K-Means berhasil dengan skor siluet: 0.417\n",
      "Visualisasi interaktif menunjukkan pemisahan cluster yang jelas di berbagai kombinasi fitur.\n"
     ]
    }
   ],
   "source": [
    "# Model Training,  K-Means dengan k=5\n",
    "# random_state=42 digunakan agar hasil clustering konsisten setiap kali kode dijalankan\n",
    "# n_init=10 untuk menjalankan algoritma 10 kali dan memilih hasil terbaik\n",
    "kmeans_final = KMeans(n_clusters=k_optimal, random_state=42, n_init=10)\n",
    "label_kluster = kmeans_final.fit_predict(X)\n",
    "\n",
    "# Menambahkan label cluster ke dataframe asli dan yang sudah dinormalisasi\n",
    "df['Cluster'] = label_kluster\n",
    "df_standard['Cluster'] = label_kluster\n",
    "\n",
    "# Menampilkan ringkasan hasil clustering\n",
    "print(f\"Hasil Clustering K-Means (k={k_optimal}):\")\n",
    "print(f\"Jumlah pelanggan di setiap cluster:\")\n",
    "kluster_counts = df['Cluster'].value_counts().sort_index()\n",
    "for cluster, count in kluster_counts.items():\n",
    "    print(f\"Cluster {cluster}: {count} pelanggan ({count/len(df)*100:.1f}%)\")\n",
    "\n",
    "print(f\"\\nSkor Siluet Final: {silhouette_score(X, label_kluster):.3f}\")\n",
    "\n",
    "# Visualisasi Hasil Clustering\n",
    "# Plot Sebaran: Pendapatan Tahunan vs. Skor Pengeluaran (Paling Relevan)\n",
    "fig1 = px.scatter(df, \n",
    "                  x='Annual Income (k$)', \n",
    "                  y='Spending Score (1-100)',\n",
    "                  color='Cluster',\n",
    "                  title='<b>Segmentasi Pelanggan: Pendapatan vs. Skor Pengeluaran</b>',\n",
    "                  labels={'Annual Income (k$)': 'Pendapatan Tahunan (k$)', 'Spending Score (1-100)': 'Skor Pengeluaran'},\n",
    "                  hover_data=['CustomerID', 'Age', 'Gender']) \n",
    "fig1.show()\n",
    "\n",
    "# Plot Sebaran: Menggabungkan Usia, Pendapatan, dan Skor Pengeluaran\n",
    "fig2 = px.scatter_3d(df,\n",
    "                     x='Age',\n",
    "                     y='Annual Income (k$)',\n",
    "                     z='Spending Score (1-100)',\n",
    "                     color='Cluster',\n",
    "                     title='<b>Visualisasi Cluster 3D</b>',\n",
    "                     labels={'Age': 'Usia', 'Annual Income (k$)': 'Pendapatan Tahunan (k$)', 'Spending Score (1-100)': 'Skor Pengeluaran'},\n",
    "                     hover_data=['CustomerID', 'Gender'])\n",
    "fig2.show()\n",
    "\n",
    "# Diagram Lingkaran (Pie Chart): Distribusi Ukuran Cluster\n",
    "pie_data = kluster_counts.reset_index()\n",
    "pie_data.columns = ['Cluster', 'Jumlah']\n",
    "fig3 = px.pie(pie_data,\n",
    "              values='Jumlah',\n",
    "              names='Cluster',\n",
    "              title='<b>Distribusi Pelanggan Berdasarkan Cluster</b>',\n",
    "              color='Cluster',\n",
    "              hole=0.3) \n",
    "fig3.show()\n",
    "\n",
    "# Histogram: Distribusi Usia untuk Setiap Cluster\n",
    "fig4 = px.histogram(df,\n",
    "                    x='Age',\n",
    "                    color='Cluster',\n",
    "                    marginal='box',\n",
    "                    title='<b>Distribusi Usia Berdasarkan Cluster</b>',\n",
    "                    labels={'Age': 'Usia'})\n",
    "fig4.show()\n",
    "\n",
    "\n",
    "# Kesimpulan Akhir\n",
    "print(f\"\\nProses clustering selesai! Pelanggan telah disegmentasi menjadi {k_optimal} kelompok yang berbeda.\")\n",
    "print(f\"Clustering K-Means berhasil dengan skor siluet: {silhouette_score(X, label_kluster):.3f}\")\n",
    "print(f\"Visualisasi interaktif menunjukkan pemisahan cluster yang jelas di berbagai kombinasi fitur.\")"
   ]
  },
  {
   "cell_type": "markdown",
   "id": "64edab9f",
   "metadata": {},
   "source": [
    "**Interpretasi Hasil**\n",
    "- Visualisasi menunjukkan bahwa cluster-cluster tersebut memiliki pemisahan yang jelas, terutama pada dimensi Pendapatan Tahunan dan Skor Pengeluaran.\n",
    "- Visualisasi mengonfirmasi bahwa cluster-cluster ini juga memiliki perbedaan karakteristik dalam hal Usia."
   ]
  },
  {
   "cell_type": "markdown",
   "id": "3af2a99b",
   "metadata": {},
   "source": [
    "## 7. Cluster Profiling "
   ]
  },
  {
   "cell_type": "code",
   "execution_count": 20,
   "id": "3e942b17",
   "metadata": {},
   "outputs": [
    {
     "name": "stdout",
     "output_type": "stream",
     "text": [
      "PROFILING CLUSTER PELANGGAN\n",
      "Statistik per Cluster:\n",
      "         Age_mean  Age_std  Age_min  Age_max  Annual Income (k$)_mean  \\\n",
      "Cluster                                                                 \n",
      "0           46.25    11.58       20       67                    26.75   \n",
      "1           25.19     5.51       18       38                    41.09   \n",
      "2           32.88     3.86       27       40                    86.10   \n",
      "3           39.87    10.94       19       59                    86.10   \n",
      "4           55.64     8.91       40       70                    54.38   \n",
      "\n",
      "         Annual Income (k$)_std  Annual Income (k$)_min  \\\n",
      "Cluster                                                   \n",
      "0                          7.31                      16   \n",
      "1                         16.82                      15   \n",
      "2                         16.34                      69   \n",
      "3                         16.73                      64   \n",
      "4                          8.82                      38   \n",
      "\n",
      "         Annual Income (k$)_max  Spending Score (1-100)_mean  \\\n",
      "Cluster                                                        \n",
      "0                            39                        18.35   \n",
      "1                            67                        62.24   \n",
      "2                           137                        81.53   \n",
      "3                           137                        19.36   \n",
      "4                            79                        48.85   \n",
      "\n",
      "         Spending Score (1-100)_std  Spending Score (1-100)_min  \\\n",
      "Cluster                                                           \n",
      "0                             11.94                           3   \n",
      "1                             16.60                          39   \n",
      "2                             10.00                          58   \n",
      "3                             11.61                           1   \n",
      "4                              6.30                          35   \n",
      "\n",
      "         Spending Score (1-100)_max  Jumlah_Pelanggan  \n",
      "Cluster                                                \n",
      "0                                36                20  \n",
      "1                                99                54  \n",
      "2                                97                40  \n",
      "3                                42                39  \n",
      "4                                60                47  \n",
      "\n",
      "INSIGHT & REKOMENDASI BISNIS PER CLUSTER:\n",
      "\n",
      "CLUSTER 0 - 'Hemat'\n",
      "   Ukuran: 20 pelanggan (10.0% dari total)\n",
      "   Demografi: Dominan Female (60%)\n",
      "   Rata-rata Usia: 46.2 tahun\n",
      "   Rata-rata Pendapatan: $27k per tahun\n",
      "   Rata-rata Skor Pengeluaran: 18.4/100\n",
      "   Strategi Bisnis: Targetkan dengan diskon, penawaran paket (bundling), dan produk bernilai tinggi.\n",
      "\n",
      "CLUSTER 1 - 'Pelanggan Muda'\n",
      "   Ukuran: 54 pelanggan (27.0% dari total)\n",
      "   Demografi: Dominan Female (59%)\n",
      "   Rata-rata Usia: 25.2 tahun\n",
      "   Rata-rata Pendapatan: $41k per tahun\n",
      "   Rata-rata Skor Pengeluaran: 62.2/100\n",
      "   Strategi Bisnis: Gunakan promosi tren, media sosial, dan program loyalitas.\n",
      "\n",
      "CLUSTER 2 - 'Pelanggan Premium'\n",
      "   Ukuran: 40 pelanggan (20.0% dari total)\n",
      "   Demografi: Dominan Female (55%)\n",
      "   Rata-rata Usia: 32.9 tahun\n",
      "   Rata-rata Pendapatan: $86k per tahun\n",
      "   Rata-rata Skor Pengeluaran: 81.5/100\n",
      "   Strategi Bisnis: Tawarkan produk mewah, layanan eksklusif, dan program VIP.\n",
      "\n",
      "CLUSTER 3 - 'Rich Konservatif'\n",
      "   Ukuran: 39 pelanggan (19.5% dari total)\n",
      "   Demografi: Dominan Male (51%)\n",
      "   Rata-rata Usia: 39.9 tahun\n",
      "   Rata-rata Pendapatan: $86k per tahun\n",
      "   Rata-rata Skor Pengeluaran: 19.4/100\n",
      "   Strategi Bisnis: Fokus pada kualitas, jaminan, dan edukasi nilai produk.\n",
      "\n",
      "CLUSTER 4 - 'Pelanggan Menengah Senior'\n",
      "   Ukuran: 47 pelanggan (23.5% dari total)\n",
      "   Demografi: Dominan Female (57%)\n",
      "   Rata-rata Usia: 55.6 tahun\n",
      "   Rata-rata Pendapatan: $54k per tahun\n",
      "   Rata-rata Skor Pengeluaran: 48.9/100\n",
      "   Strategi Bisnis: Tawarkan produk yang relevan dengan gaya hidup mereka dan berikan layanan yang nyaman.\n"
     ]
    },
    {
     "data": {
      "application/vnd.plotly.v1+json": {
       "config": {
        "plotlyServerURL": "https://plot.ly"
       },
       "data": [
        {
         "hovertemplate": "Metrik=Age<br>Nomor Cluster=%{marker.color}<br>Nilai Rata-rata=%{text}<extra></extra>",
         "legendgroup": "",
         "marker": {
          "color": {
           "bdata": "AAAAAAEAAAACAAAAAwAAAAQAAAA=",
           "dtype": "i4"
          },
          "coloraxis": "coloraxis",
          "pattern": {
           "shape": ""
          }
         },
         "name": "",
         "orientation": "v",
         "showlegend": false,
         "text": {
          "bdata": "AAAAAAAgR0D3EtpLaC85QAAAAAAAcEBA+ZZv+ZbvQ0B9Z6O+s9FLQA==",
          "dtype": "f8"
         },
         "textposition": "outside",
         "texttemplate": "%{text:.0f}",
         "type": "bar",
         "x": {
          "bdata": "AAAAAAEAAAACAAAAAwAAAAQAAAA=",
          "dtype": "i4"
         },
         "xaxis": "x",
         "y": {
          "bdata": "AAAAAAAgR0D3EtpLaC85QAAAAAAAcEBA+ZZv+ZbvQ0B9Z6O+s9FLQA==",
          "dtype": "f8"
         },
         "yaxis": "y"
        },
        {
         "hovertemplate": "Metrik=Annual Income (k$)<br>Nomor Cluster=%{marker.color}<br>Nilai Rata-rata=%{text}<extra></extra>",
         "legendgroup": "",
         "marker": {
          "color": {
           "bdata": "AAAAAAEAAAACAAAAAwAAAAQAAAA=",
           "dtype": "i4"
          },
          "coloraxis": "coloraxis",
          "pattern": {
           "shape": ""
          }
         },
         "name": "",
         "orientation": "v",
         "showlegend": false,
         "text": {
          "bdata": "AAAAAADAOkC+hPYS2otEQGZmZmZmhlVAaZAGaZCGVUDlCmJyBTFLQA==",
          "dtype": "f8"
         },
         "textposition": "outside",
         "texttemplate": "%{text:.0f}",
         "type": "bar",
         "x": {
          "bdata": "AAAAAAEAAAACAAAAAwAAAAQAAAA=",
          "dtype": "i4"
         },
         "xaxis": "x2",
         "y": {
          "bdata": "AAAAAADAOkC+hPYS2otEQGZmZmZmhlVAaZAGaZCGVUDlCmJyBTFLQA==",
          "dtype": "f8"
         },
         "yaxis": "y2"
        },
        {
         "hovertemplate": "Metrik=Spending Score (1-100)<br>Nomor Cluster=%{marker.color}<br>Nilai Rata-rata=%{text}<extra></extra>",
         "legendgroup": "",
         "marker": {
          "color": {
           "bdata": "AAAAAAEAAAACAAAAAwAAAAQAAAA=",
           "dtype": "i4"
          },
          "coloraxis": "coloraxis",
          "pattern": {
           "shape": ""
          }
         },
         "name": "",
         "orientation": "v",
         "showlegend": false,
         "text": {
          "bdata": "mpmZmZlZMkDtJbSX0B5PQJqZmZmZYVRAvuVbvuVbM0BS39mo72xIQA==",
          "dtype": "f8"
         },
         "textposition": "outside",
         "texttemplate": "%{text:.0f}",
         "type": "bar",
         "x": {
          "bdata": "AAAAAAEAAAACAAAAAwAAAAQAAAA=",
          "dtype": "i4"
         },
         "xaxis": "x3",
         "y": {
          "bdata": "mpmZmZlZMkDtJbSX0B5PQJqZmZmZYVRAvuVbvuVbM0BS39mo72xIQA==",
          "dtype": "f8"
         },
         "yaxis": "y3"
        }
       ],
       "layout": {
        "annotations": [
         {
          "font": {},
          "showarrow": false,
          "text": "Metrik=Age",
          "x": 0.15999999999999998,
          "xanchor": "center",
          "xref": "paper",
          "y": 1,
          "yanchor": "bottom",
          "yref": "paper"
         },
         {
          "font": {},
          "showarrow": false,
          "text": "Metrik=Annual Income (k$)",
          "x": 0.49999999999999994,
          "xanchor": "center",
          "xref": "paper",
          "y": 1,
          "yanchor": "bottom",
          "yref": "paper"
         },
         {
          "font": {},
          "showarrow": false,
          "text": "Metrik=Spending Score (1-100)",
          "x": 0.8399999999999999,
          "xanchor": "center",
          "xref": "paper",
          "y": 1,
          "yanchor": "bottom",
          "yref": "paper"
         }
        ],
        "barmode": "relative",
        "coloraxis": {
         "colorbar": {
          "title": {
           "text": "Nomor Cluster"
          }
         },
         "colorscale": [
          [
           0,
           "#0d0887"
          ],
          [
           0.1111111111111111,
           "#46039f"
          ],
          [
           0.2222222222222222,
           "#7201a8"
          ],
          [
           0.3333333333333333,
           "#9c179e"
          ],
          [
           0.4444444444444444,
           "#bd3786"
          ],
          [
           0.5555555555555556,
           "#d8576b"
          ],
          [
           0.6666666666666666,
           "#ed7953"
          ],
          [
           0.7777777777777778,
           "#fb9f3a"
          ],
          [
           0.8888888888888888,
           "#fdca26"
          ],
          [
           1,
           "#f0f921"
          ]
         ]
        },
        "legend": {
         "tracegroupgap": 0
        },
        "template": {
         "data": {
          "bar": [
           {
            "error_x": {
             "color": "#2a3f5f"
            },
            "error_y": {
             "color": "#2a3f5f"
            },
            "marker": {
             "line": {
              "color": "#E5ECF6",
              "width": 0.5
             },
             "pattern": {
              "fillmode": "overlay",
              "size": 10,
              "solidity": 0.2
             }
            },
            "type": "bar"
           }
          ],
          "barpolar": [
           {
            "marker": {
             "line": {
              "color": "#E5ECF6",
              "width": 0.5
             },
             "pattern": {
              "fillmode": "overlay",
              "size": 10,
              "solidity": 0.2
             }
            },
            "type": "barpolar"
           }
          ],
          "carpet": [
           {
            "aaxis": {
             "endlinecolor": "#2a3f5f",
             "gridcolor": "white",
             "linecolor": "white",
             "minorgridcolor": "white",
             "startlinecolor": "#2a3f5f"
            },
            "baxis": {
             "endlinecolor": "#2a3f5f",
             "gridcolor": "white",
             "linecolor": "white",
             "minorgridcolor": "white",
             "startlinecolor": "#2a3f5f"
            },
            "type": "carpet"
           }
          ],
          "choropleth": [
           {
            "colorbar": {
             "outlinewidth": 0,
             "ticks": ""
            },
            "type": "choropleth"
           }
          ],
          "contour": [
           {
            "colorbar": {
             "outlinewidth": 0,
             "ticks": ""
            },
            "colorscale": [
             [
              0,
              "#0d0887"
             ],
             [
              0.1111111111111111,
              "#46039f"
             ],
             [
              0.2222222222222222,
              "#7201a8"
             ],
             [
              0.3333333333333333,
              "#9c179e"
             ],
             [
              0.4444444444444444,
              "#bd3786"
             ],
             [
              0.5555555555555556,
              "#d8576b"
             ],
             [
              0.6666666666666666,
              "#ed7953"
             ],
             [
              0.7777777777777778,
              "#fb9f3a"
             ],
             [
              0.8888888888888888,
              "#fdca26"
             ],
             [
              1,
              "#f0f921"
             ]
            ],
            "type": "contour"
           }
          ],
          "contourcarpet": [
           {
            "colorbar": {
             "outlinewidth": 0,
             "ticks": ""
            },
            "type": "contourcarpet"
           }
          ],
          "heatmap": [
           {
            "colorbar": {
             "outlinewidth": 0,
             "ticks": ""
            },
            "colorscale": [
             [
              0,
              "#0d0887"
             ],
             [
              0.1111111111111111,
              "#46039f"
             ],
             [
              0.2222222222222222,
              "#7201a8"
             ],
             [
              0.3333333333333333,
              "#9c179e"
             ],
             [
              0.4444444444444444,
              "#bd3786"
             ],
             [
              0.5555555555555556,
              "#d8576b"
             ],
             [
              0.6666666666666666,
              "#ed7953"
             ],
             [
              0.7777777777777778,
              "#fb9f3a"
             ],
             [
              0.8888888888888888,
              "#fdca26"
             ],
             [
              1,
              "#f0f921"
             ]
            ],
            "type": "heatmap"
           }
          ],
          "histogram": [
           {
            "marker": {
             "pattern": {
              "fillmode": "overlay",
              "size": 10,
              "solidity": 0.2
             }
            },
            "type": "histogram"
           }
          ],
          "histogram2d": [
           {
            "colorbar": {
             "outlinewidth": 0,
             "ticks": ""
            },
            "colorscale": [
             [
              0,
              "#0d0887"
             ],
             [
              0.1111111111111111,
              "#46039f"
             ],
             [
              0.2222222222222222,
              "#7201a8"
             ],
             [
              0.3333333333333333,
              "#9c179e"
             ],
             [
              0.4444444444444444,
              "#bd3786"
             ],
             [
              0.5555555555555556,
              "#d8576b"
             ],
             [
              0.6666666666666666,
              "#ed7953"
             ],
             [
              0.7777777777777778,
              "#fb9f3a"
             ],
             [
              0.8888888888888888,
              "#fdca26"
             ],
             [
              1,
              "#f0f921"
             ]
            ],
            "type": "histogram2d"
           }
          ],
          "histogram2dcontour": [
           {
            "colorbar": {
             "outlinewidth": 0,
             "ticks": ""
            },
            "colorscale": [
             [
              0,
              "#0d0887"
             ],
             [
              0.1111111111111111,
              "#46039f"
             ],
             [
              0.2222222222222222,
              "#7201a8"
             ],
             [
              0.3333333333333333,
              "#9c179e"
             ],
             [
              0.4444444444444444,
              "#bd3786"
             ],
             [
              0.5555555555555556,
              "#d8576b"
             ],
             [
              0.6666666666666666,
              "#ed7953"
             ],
             [
              0.7777777777777778,
              "#fb9f3a"
             ],
             [
              0.8888888888888888,
              "#fdca26"
             ],
             [
              1,
              "#f0f921"
             ]
            ],
            "type": "histogram2dcontour"
           }
          ],
          "mesh3d": [
           {
            "colorbar": {
             "outlinewidth": 0,
             "ticks": ""
            },
            "type": "mesh3d"
           }
          ],
          "parcoords": [
           {
            "line": {
             "colorbar": {
              "outlinewidth": 0,
              "ticks": ""
             }
            },
            "type": "parcoords"
           }
          ],
          "pie": [
           {
            "automargin": true,
            "type": "pie"
           }
          ],
          "scatter": [
           {
            "fillpattern": {
             "fillmode": "overlay",
             "size": 10,
             "solidity": 0.2
            },
            "type": "scatter"
           }
          ],
          "scatter3d": [
           {
            "line": {
             "colorbar": {
              "outlinewidth": 0,
              "ticks": ""
             }
            },
            "marker": {
             "colorbar": {
              "outlinewidth": 0,
              "ticks": ""
             }
            },
            "type": "scatter3d"
           }
          ],
          "scattercarpet": [
           {
            "marker": {
             "colorbar": {
              "outlinewidth": 0,
              "ticks": ""
             }
            },
            "type": "scattercarpet"
           }
          ],
          "scattergeo": [
           {
            "marker": {
             "colorbar": {
              "outlinewidth": 0,
              "ticks": ""
             }
            },
            "type": "scattergeo"
           }
          ],
          "scattergl": [
           {
            "marker": {
             "colorbar": {
              "outlinewidth": 0,
              "ticks": ""
             }
            },
            "type": "scattergl"
           }
          ],
          "scattermap": [
           {
            "marker": {
             "colorbar": {
              "outlinewidth": 0,
              "ticks": ""
             }
            },
            "type": "scattermap"
           }
          ],
          "scattermapbox": [
           {
            "marker": {
             "colorbar": {
              "outlinewidth": 0,
              "ticks": ""
             }
            },
            "type": "scattermapbox"
           }
          ],
          "scatterpolar": [
           {
            "marker": {
             "colorbar": {
              "outlinewidth": 0,
              "ticks": ""
             }
            },
            "type": "scatterpolar"
           }
          ],
          "scatterpolargl": [
           {
            "marker": {
             "colorbar": {
              "outlinewidth": 0,
              "ticks": ""
             }
            },
            "type": "scatterpolargl"
           }
          ],
          "scatterternary": [
           {
            "marker": {
             "colorbar": {
              "outlinewidth": 0,
              "ticks": ""
             }
            },
            "type": "scatterternary"
           }
          ],
          "surface": [
           {
            "colorbar": {
             "outlinewidth": 0,
             "ticks": ""
            },
            "colorscale": [
             [
              0,
              "#0d0887"
             ],
             [
              0.1111111111111111,
              "#46039f"
             ],
             [
              0.2222222222222222,
              "#7201a8"
             ],
             [
              0.3333333333333333,
              "#9c179e"
             ],
             [
              0.4444444444444444,
              "#bd3786"
             ],
             [
              0.5555555555555556,
              "#d8576b"
             ],
             [
              0.6666666666666666,
              "#ed7953"
             ],
             [
              0.7777777777777778,
              "#fb9f3a"
             ],
             [
              0.8888888888888888,
              "#fdca26"
             ],
             [
              1,
              "#f0f921"
             ]
            ],
            "type": "surface"
           }
          ],
          "table": [
           {
            "cells": {
             "fill": {
              "color": "#EBF0F8"
             },
             "line": {
              "color": "white"
             }
            },
            "header": {
             "fill": {
              "color": "#C8D4E3"
             },
             "line": {
              "color": "white"
             }
            },
            "type": "table"
           }
          ]
         },
         "layout": {
          "annotationdefaults": {
           "arrowcolor": "#2a3f5f",
           "arrowhead": 0,
           "arrowwidth": 1
          },
          "autotypenumbers": "strict",
          "coloraxis": {
           "colorbar": {
            "outlinewidth": 0,
            "ticks": ""
           }
          },
          "colorscale": {
           "diverging": [
            [
             0,
             "#8e0152"
            ],
            [
             0.1,
             "#c51b7d"
            ],
            [
             0.2,
             "#de77ae"
            ],
            [
             0.3,
             "#f1b6da"
            ],
            [
             0.4,
             "#fde0ef"
            ],
            [
             0.5,
             "#f7f7f7"
            ],
            [
             0.6,
             "#e6f5d0"
            ],
            [
             0.7,
             "#b8e186"
            ],
            [
             0.8,
             "#7fbc41"
            ],
            [
             0.9,
             "#4d9221"
            ],
            [
             1,
             "#276419"
            ]
           ],
           "sequential": [
            [
             0,
             "#0d0887"
            ],
            [
             0.1111111111111111,
             "#46039f"
            ],
            [
             0.2222222222222222,
             "#7201a8"
            ],
            [
             0.3333333333333333,
             "#9c179e"
            ],
            [
             0.4444444444444444,
             "#bd3786"
            ],
            [
             0.5555555555555556,
             "#d8576b"
            ],
            [
             0.6666666666666666,
             "#ed7953"
            ],
            [
             0.7777777777777778,
             "#fb9f3a"
            ],
            [
             0.8888888888888888,
             "#fdca26"
            ],
            [
             1,
             "#f0f921"
            ]
           ],
           "sequentialminus": [
            [
             0,
             "#0d0887"
            ],
            [
             0.1111111111111111,
             "#46039f"
            ],
            [
             0.2222222222222222,
             "#7201a8"
            ],
            [
             0.3333333333333333,
             "#9c179e"
            ],
            [
             0.4444444444444444,
             "#bd3786"
            ],
            [
             0.5555555555555556,
             "#d8576b"
            ],
            [
             0.6666666666666666,
             "#ed7953"
            ],
            [
             0.7777777777777778,
             "#fb9f3a"
            ],
            [
             0.8888888888888888,
             "#fdca26"
            ],
            [
             1,
             "#f0f921"
            ]
           ]
          },
          "colorway": [
           "#636efa",
           "#EF553B",
           "#00cc96",
           "#ab63fa",
           "#FFA15A",
           "#19d3f3",
           "#FF6692",
           "#B6E880",
           "#FF97FF",
           "#FECB52"
          ],
          "font": {
           "color": "#2a3f5f"
          },
          "geo": {
           "bgcolor": "white",
           "lakecolor": "white",
           "landcolor": "#E5ECF6",
           "showlakes": true,
           "showland": true,
           "subunitcolor": "white"
          },
          "hoverlabel": {
           "align": "left"
          },
          "hovermode": "closest",
          "mapbox": {
           "style": "light"
          },
          "paper_bgcolor": "white",
          "plot_bgcolor": "#E5ECF6",
          "polar": {
           "angularaxis": {
            "gridcolor": "white",
            "linecolor": "white",
            "ticks": ""
           },
           "bgcolor": "#E5ECF6",
           "radialaxis": {
            "gridcolor": "white",
            "linecolor": "white",
            "ticks": ""
           }
          },
          "scene": {
           "xaxis": {
            "backgroundcolor": "#E5ECF6",
            "gridcolor": "white",
            "gridwidth": 2,
            "linecolor": "white",
            "showbackground": true,
            "ticks": "",
            "zerolinecolor": "white"
           },
           "yaxis": {
            "backgroundcolor": "#E5ECF6",
            "gridcolor": "white",
            "gridwidth": 2,
            "linecolor": "white",
            "showbackground": true,
            "ticks": "",
            "zerolinecolor": "white"
           },
           "zaxis": {
            "backgroundcolor": "#E5ECF6",
            "gridcolor": "white",
            "gridwidth": 2,
            "linecolor": "white",
            "showbackground": true,
            "ticks": "",
            "zerolinecolor": "white"
           }
          },
          "shapedefaults": {
           "line": {
            "color": "#2a3f5f"
           }
          },
          "ternary": {
           "aaxis": {
            "gridcolor": "white",
            "linecolor": "white",
            "ticks": ""
           },
           "baxis": {
            "gridcolor": "white",
            "linecolor": "white",
            "ticks": ""
           },
           "bgcolor": "#E5ECF6",
           "caxis": {
            "gridcolor": "white",
            "linecolor": "white",
            "ticks": ""
           }
          },
          "title": {
           "x": 0.05
          },
          "xaxis": {
           "automargin": true,
           "gridcolor": "white",
           "linecolor": "white",
           "ticks": "",
           "title": {
            "standoff": 15
           },
           "zerolinecolor": "white",
           "zerolinewidth": 2
          },
          "yaxis": {
           "automargin": true,
           "gridcolor": "white",
           "linecolor": "white",
           "ticks": "",
           "title": {
            "standoff": 15
           },
           "zerolinecolor": "white",
           "zerolinewidth": 2
          }
         }
        },
        "title": {
         "text": "<b>Perbandingan Rata-rata Karakteristik per Cluster</b>"
        },
        "xaxis": {
         "anchor": "y",
         "domain": [
          0,
          0.31999999999999995
         ],
         "title": {
          "text": "Nomor Cluster"
         }
        },
        "xaxis2": {
         "anchor": "y2",
         "domain": [
          0.33999999999999997,
          0.6599999999999999
         ],
         "matches": "x",
         "title": {
          "text": "Nomor Cluster"
         }
        },
        "xaxis3": {
         "anchor": "y3",
         "domain": [
          0.6799999999999999,
          0.9999999999999999
         ],
         "matches": "x",
         "title": {
          "text": "Nomor Cluster"
         }
        },
        "yaxis": {
         "anchor": "x",
         "domain": [
          0,
          1
         ],
         "title": {
          "text": "Nilai Rata-rata"
         }
        },
        "yaxis2": {
         "anchor": "x2",
         "domain": [
          0,
          1
         ],
         "showticklabels": false
        },
        "yaxis3": {
         "anchor": "x3",
         "domain": [
          0,
          1
         ],
         "showticklabels": false
        }
       }
      }
     },
     "metadata": {},
     "output_type": "display_data"
    },
    {
     "data": {
      "application/vnd.plotly.v1+json": {
       "config": {
        "plotlyServerURL": "https://plot.ly"
       },
       "data": [
        {
         "domain": {
          "x": [
           0,
           1
          ],
          "y": [
           0,
           1
          ]
         },
         "hole": 0.3,
         "hovertemplate": "label=%{label}<br>count=%{value}<extra></extra>",
         "labels": [
          "Cluster 0<br>(Hemat)",
          "Cluster 1<br>(Pelanggan Muda)",
          "Cluster 2<br>(Pelanggan Premium)",
          "Cluster 3<br>(Rich Konservatif)",
          "Cluster 4<br>(Pelanggan Menengah Senior)"
         ],
         "legendgroup": "",
         "name": "",
         "showlegend": true,
         "textinfo": "percent+label",
         "textposition": "inside",
         "type": "pie",
         "values": {
          "bdata": "FDYoJy8=",
          "dtype": "i1"
         }
        }
       ],
       "layout": {
        "legend": {
         "tracegroupgap": 0
        },
        "template": {
         "data": {
          "bar": [
           {
            "error_x": {
             "color": "#2a3f5f"
            },
            "error_y": {
             "color": "#2a3f5f"
            },
            "marker": {
             "line": {
              "color": "#E5ECF6",
              "width": 0.5
             },
             "pattern": {
              "fillmode": "overlay",
              "size": 10,
              "solidity": 0.2
             }
            },
            "type": "bar"
           }
          ],
          "barpolar": [
           {
            "marker": {
             "line": {
              "color": "#E5ECF6",
              "width": 0.5
             },
             "pattern": {
              "fillmode": "overlay",
              "size": 10,
              "solidity": 0.2
             }
            },
            "type": "barpolar"
           }
          ],
          "carpet": [
           {
            "aaxis": {
             "endlinecolor": "#2a3f5f",
             "gridcolor": "white",
             "linecolor": "white",
             "minorgridcolor": "white",
             "startlinecolor": "#2a3f5f"
            },
            "baxis": {
             "endlinecolor": "#2a3f5f",
             "gridcolor": "white",
             "linecolor": "white",
             "minorgridcolor": "white",
             "startlinecolor": "#2a3f5f"
            },
            "type": "carpet"
           }
          ],
          "choropleth": [
           {
            "colorbar": {
             "outlinewidth": 0,
             "ticks": ""
            },
            "type": "choropleth"
           }
          ],
          "contour": [
           {
            "colorbar": {
             "outlinewidth": 0,
             "ticks": ""
            },
            "colorscale": [
             [
              0,
              "#0d0887"
             ],
             [
              0.1111111111111111,
              "#46039f"
             ],
             [
              0.2222222222222222,
              "#7201a8"
             ],
             [
              0.3333333333333333,
              "#9c179e"
             ],
             [
              0.4444444444444444,
              "#bd3786"
             ],
             [
              0.5555555555555556,
              "#d8576b"
             ],
             [
              0.6666666666666666,
              "#ed7953"
             ],
             [
              0.7777777777777778,
              "#fb9f3a"
             ],
             [
              0.8888888888888888,
              "#fdca26"
             ],
             [
              1,
              "#f0f921"
             ]
            ],
            "type": "contour"
           }
          ],
          "contourcarpet": [
           {
            "colorbar": {
             "outlinewidth": 0,
             "ticks": ""
            },
            "type": "contourcarpet"
           }
          ],
          "heatmap": [
           {
            "colorbar": {
             "outlinewidth": 0,
             "ticks": ""
            },
            "colorscale": [
             [
              0,
              "#0d0887"
             ],
             [
              0.1111111111111111,
              "#46039f"
             ],
             [
              0.2222222222222222,
              "#7201a8"
             ],
             [
              0.3333333333333333,
              "#9c179e"
             ],
             [
              0.4444444444444444,
              "#bd3786"
             ],
             [
              0.5555555555555556,
              "#d8576b"
             ],
             [
              0.6666666666666666,
              "#ed7953"
             ],
             [
              0.7777777777777778,
              "#fb9f3a"
             ],
             [
              0.8888888888888888,
              "#fdca26"
             ],
             [
              1,
              "#f0f921"
             ]
            ],
            "type": "heatmap"
           }
          ],
          "histogram": [
           {
            "marker": {
             "pattern": {
              "fillmode": "overlay",
              "size": 10,
              "solidity": 0.2
             }
            },
            "type": "histogram"
           }
          ],
          "histogram2d": [
           {
            "colorbar": {
             "outlinewidth": 0,
             "ticks": ""
            },
            "colorscale": [
             [
              0,
              "#0d0887"
             ],
             [
              0.1111111111111111,
              "#46039f"
             ],
             [
              0.2222222222222222,
              "#7201a8"
             ],
             [
              0.3333333333333333,
              "#9c179e"
             ],
             [
              0.4444444444444444,
              "#bd3786"
             ],
             [
              0.5555555555555556,
              "#d8576b"
             ],
             [
              0.6666666666666666,
              "#ed7953"
             ],
             [
              0.7777777777777778,
              "#fb9f3a"
             ],
             [
              0.8888888888888888,
              "#fdca26"
             ],
             [
              1,
              "#f0f921"
             ]
            ],
            "type": "histogram2d"
           }
          ],
          "histogram2dcontour": [
           {
            "colorbar": {
             "outlinewidth": 0,
             "ticks": ""
            },
            "colorscale": [
             [
              0,
              "#0d0887"
             ],
             [
              0.1111111111111111,
              "#46039f"
             ],
             [
              0.2222222222222222,
              "#7201a8"
             ],
             [
              0.3333333333333333,
              "#9c179e"
             ],
             [
              0.4444444444444444,
              "#bd3786"
             ],
             [
              0.5555555555555556,
              "#d8576b"
             ],
             [
              0.6666666666666666,
              "#ed7953"
             ],
             [
              0.7777777777777778,
              "#fb9f3a"
             ],
             [
              0.8888888888888888,
              "#fdca26"
             ],
             [
              1,
              "#f0f921"
             ]
            ],
            "type": "histogram2dcontour"
           }
          ],
          "mesh3d": [
           {
            "colorbar": {
             "outlinewidth": 0,
             "ticks": ""
            },
            "type": "mesh3d"
           }
          ],
          "parcoords": [
           {
            "line": {
             "colorbar": {
              "outlinewidth": 0,
              "ticks": ""
             }
            },
            "type": "parcoords"
           }
          ],
          "pie": [
           {
            "automargin": true,
            "type": "pie"
           }
          ],
          "scatter": [
           {
            "fillpattern": {
             "fillmode": "overlay",
             "size": 10,
             "solidity": 0.2
            },
            "type": "scatter"
           }
          ],
          "scatter3d": [
           {
            "line": {
             "colorbar": {
              "outlinewidth": 0,
              "ticks": ""
             }
            },
            "marker": {
             "colorbar": {
              "outlinewidth": 0,
              "ticks": ""
             }
            },
            "type": "scatter3d"
           }
          ],
          "scattercarpet": [
           {
            "marker": {
             "colorbar": {
              "outlinewidth": 0,
              "ticks": ""
             }
            },
            "type": "scattercarpet"
           }
          ],
          "scattergeo": [
           {
            "marker": {
             "colorbar": {
              "outlinewidth": 0,
              "ticks": ""
             }
            },
            "type": "scattergeo"
           }
          ],
          "scattergl": [
           {
            "marker": {
             "colorbar": {
              "outlinewidth": 0,
              "ticks": ""
             }
            },
            "type": "scattergl"
           }
          ],
          "scattermap": [
           {
            "marker": {
             "colorbar": {
              "outlinewidth": 0,
              "ticks": ""
             }
            },
            "type": "scattermap"
           }
          ],
          "scattermapbox": [
           {
            "marker": {
             "colorbar": {
              "outlinewidth": 0,
              "ticks": ""
             }
            },
            "type": "scattermapbox"
           }
          ],
          "scatterpolar": [
           {
            "marker": {
             "colorbar": {
              "outlinewidth": 0,
              "ticks": ""
             }
            },
            "type": "scatterpolar"
           }
          ],
          "scatterpolargl": [
           {
            "marker": {
             "colorbar": {
              "outlinewidth": 0,
              "ticks": ""
             }
            },
            "type": "scatterpolargl"
           }
          ],
          "scatterternary": [
           {
            "marker": {
             "colorbar": {
              "outlinewidth": 0,
              "ticks": ""
             }
            },
            "type": "scatterternary"
           }
          ],
          "surface": [
           {
            "colorbar": {
             "outlinewidth": 0,
             "ticks": ""
            },
            "colorscale": [
             [
              0,
              "#0d0887"
             ],
             [
              0.1111111111111111,
              "#46039f"
             ],
             [
              0.2222222222222222,
              "#7201a8"
             ],
             [
              0.3333333333333333,
              "#9c179e"
             ],
             [
              0.4444444444444444,
              "#bd3786"
             ],
             [
              0.5555555555555556,
              "#d8576b"
             ],
             [
              0.6666666666666666,
              "#ed7953"
             ],
             [
              0.7777777777777778,
              "#fb9f3a"
             ],
             [
              0.8888888888888888,
              "#fdca26"
             ],
             [
              1,
              "#f0f921"
             ]
            ],
            "type": "surface"
           }
          ],
          "table": [
           {
            "cells": {
             "fill": {
              "color": "#EBF0F8"
             },
             "line": {
              "color": "white"
             }
            },
            "header": {
             "fill": {
              "color": "#C8D4E3"
             },
             "line": {
              "color": "white"
             }
            },
            "type": "table"
           }
          ]
         },
         "layout": {
          "annotationdefaults": {
           "arrowcolor": "#2a3f5f",
           "arrowhead": 0,
           "arrowwidth": 1
          },
          "autotypenumbers": "strict",
          "coloraxis": {
           "colorbar": {
            "outlinewidth": 0,
            "ticks": ""
           }
          },
          "colorscale": {
           "diverging": [
            [
             0,
             "#8e0152"
            ],
            [
             0.1,
             "#c51b7d"
            ],
            [
             0.2,
             "#de77ae"
            ],
            [
             0.3,
             "#f1b6da"
            ],
            [
             0.4,
             "#fde0ef"
            ],
            [
             0.5,
             "#f7f7f7"
            ],
            [
             0.6,
             "#e6f5d0"
            ],
            [
             0.7,
             "#b8e186"
            ],
            [
             0.8,
             "#7fbc41"
            ],
            [
             0.9,
             "#4d9221"
            ],
            [
             1,
             "#276419"
            ]
           ],
           "sequential": [
            [
             0,
             "#0d0887"
            ],
            [
             0.1111111111111111,
             "#46039f"
            ],
            [
             0.2222222222222222,
             "#7201a8"
            ],
            [
             0.3333333333333333,
             "#9c179e"
            ],
            [
             0.4444444444444444,
             "#bd3786"
            ],
            [
             0.5555555555555556,
             "#d8576b"
            ],
            [
             0.6666666666666666,
             "#ed7953"
            ],
            [
             0.7777777777777778,
             "#fb9f3a"
            ],
            [
             0.8888888888888888,
             "#fdca26"
            ],
            [
             1,
             "#f0f921"
            ]
           ],
           "sequentialminus": [
            [
             0,
             "#0d0887"
            ],
            [
             0.1111111111111111,
             "#46039f"
            ],
            [
             0.2222222222222222,
             "#7201a8"
            ],
            [
             0.3333333333333333,
             "#9c179e"
            ],
            [
             0.4444444444444444,
             "#bd3786"
            ],
            [
             0.5555555555555556,
             "#d8576b"
            ],
            [
             0.6666666666666666,
             "#ed7953"
            ],
            [
             0.7777777777777778,
             "#fb9f3a"
            ],
            [
             0.8888888888888888,
             "#fdca26"
            ],
            [
             1,
             "#f0f921"
            ]
           ]
          },
          "colorway": [
           "#636efa",
           "#EF553B",
           "#00cc96",
           "#ab63fa",
           "#FFA15A",
           "#19d3f3",
           "#FF6692",
           "#B6E880",
           "#FF97FF",
           "#FECB52"
          ],
          "font": {
           "color": "#2a3f5f"
          },
          "geo": {
           "bgcolor": "white",
           "lakecolor": "white",
           "landcolor": "#E5ECF6",
           "showlakes": true,
           "showland": true,
           "subunitcolor": "white"
          },
          "hoverlabel": {
           "align": "left"
          },
          "hovermode": "closest",
          "mapbox": {
           "style": "light"
          },
          "paper_bgcolor": "white",
          "plot_bgcolor": "#E5ECF6",
          "polar": {
           "angularaxis": {
            "gridcolor": "white",
            "linecolor": "white",
            "ticks": ""
           },
           "bgcolor": "#E5ECF6",
           "radialaxis": {
            "gridcolor": "white",
            "linecolor": "white",
            "ticks": ""
           }
          },
          "scene": {
           "xaxis": {
            "backgroundcolor": "#E5ECF6",
            "gridcolor": "white",
            "gridwidth": 2,
            "linecolor": "white",
            "showbackground": true,
            "ticks": "",
            "zerolinecolor": "white"
           },
           "yaxis": {
            "backgroundcolor": "#E5ECF6",
            "gridcolor": "white",
            "gridwidth": 2,
            "linecolor": "white",
            "showbackground": true,
            "ticks": "",
            "zerolinecolor": "white"
           },
           "zaxis": {
            "backgroundcolor": "#E5ECF6",
            "gridcolor": "white",
            "gridwidth": 2,
            "linecolor": "white",
            "showbackground": true,
            "ticks": "",
            "zerolinecolor": "white"
           }
          },
          "shapedefaults": {
           "line": {
            "color": "#2a3f5f"
           }
          },
          "ternary": {
           "aaxis": {
            "gridcolor": "white",
            "linecolor": "white",
            "ticks": ""
           },
           "baxis": {
            "gridcolor": "white",
            "linecolor": "white",
            "ticks": ""
           },
           "bgcolor": "#E5ECF6",
           "caxis": {
            "gridcolor": "white",
            "linecolor": "white",
            "ticks": ""
           }
          },
          "title": {
           "x": 0.05
          },
          "xaxis": {
           "automargin": true,
           "gridcolor": "white",
           "linecolor": "white",
           "ticks": "",
           "title": {
            "standoff": 15
           },
           "zerolinecolor": "white",
           "zerolinewidth": 2
          },
          "yaxis": {
           "automargin": true,
           "gridcolor": "white",
           "linecolor": "white",
           "ticks": "",
           "title": {
            "standoff": 15
           },
           "zerolinecolor": "white",
           "zerolinewidth": 2
          }
         }
        },
        "title": {
         "text": "<b>Distribusi Pelanggan Berdasarkan Cluster</b>"
        }
       }
      }
     },
     "metadata": {},
     "output_type": "display_data"
    },
    {
     "name": "stdout",
     "output_type": "stream",
     "text": [
      "\n",
      "Analisis segmentasi pelanggan selesai!\n",
      "Ringkasan: 200 pelanggan berhasil disegmentasi menjadi 5 kelompok yang berbeda.\n",
      "Setiap cluster memiliki karakteristik unik yang cocok untuk strategi pemasaran yang tertarget.\n"
     ]
    }
   ],
   "source": [
    "print(\"PROFILING CLUSTER PELANGGAN\")\n",
    "\n",
    "# Menghitung statistik deskriptif untuk setiap cluster\n",
    "profil_kluster = df.groupby('Cluster')[numerical_features + ['CustomerID']].agg({\n",
    "    'Age': ['mean', 'std', 'min', 'max'],\n",
    "    'Annual Income (k$)': ['mean', 'std', 'min', 'max'],\n",
    "    'Spending Score (1-100)': ['mean', 'std', 'min', 'max'],\n",
    "    'CustomerID': 'count'\n",
    "}).round(2)\n",
    "\n",
    "# Merapikan nama kolom hasil agregasi agar lebih mudah dibaca\n",
    "profil_kluster.columns = ['_'.join(col).strip() for col in profil_kluster.columns]\n",
    "profil_kluster = profil_kluster.rename(columns={'CustomerID_count': 'Jumlah_Pelanggan'})\n",
    "\n",
    "print(\"Statistik per Cluster:\")\n",
    "print(profil_kluster)\n",
    "\n",
    "\n",
    "# Analisis Karakteristik dan Pemberian Nama Persona untuk Setiap Cluster\n",
    "print(f\"\\nINSIGHT & REKOMENDASI BISNIS PER CLUSTER:\")\n",
    "\n",
    "nama_kluster = []\n",
    "# Melakukan iterasi dari cluster 0 hingga 4\n",
    "for cluster in range(k_optimal):\n",
    "    # Mengambil data untuk cluster saat ini\n",
    "    cluster_data = df[df['Cluster'] == cluster]\n",
    "    \n",
    "    # Menghitung nilai rata-rata\n",
    "    avg_age = cluster_data['Age'].mean()\n",
    "    avg_income = cluster_data['Annual Income (k$)'].mean()\n",
    "    avg_spending = cluster_data['Spending Score (1-100)'].mean()\n",
    "    count = len(cluster_data)\n",
    "    \n",
    "    # Menghitung distribusi gender dalam cluster\n",
    "    gender_dist = cluster_data['Gender'].value_counts()\n",
    "    dominant_gender = gender_dist.index[0]\n",
    "    gender_ratio = gender_dist.iloc[0] / count * 100\n",
    "    \n",
    "    # Logika untuk memberikan nama dan strategi berdasarkan karakteristik\n",
    "    if avg_income > 70 and avg_spending > 70:\n",
    "        name = \"Pelanggan Premium\"\n",
    "        strategy = \"Tawarkan produk mewah, layanan eksklusif, dan program VIP.\"\n",
    "    elif avg_income > 70 and avg_spending < 40:\n",
    "        name = \"Rich Konservatif\"\n",
    "        strategy = \"Fokus pada kualitas, jaminan, dan edukasi nilai produk.\"\n",
    "    elif avg_income < 40 and avg_spending < 40:\n",
    "        name = \"Hemat\"\n",
    "        strategy = \"Targetkan dengan diskon, penawaran paket (bundling), dan produk bernilai tinggi.\"\n",
    "    elif avg_age < 40:\n",
    "        name = \"Pelanggan Muda\"\n",
    "        strategy = \"Gunakan promosi tren, media sosial, dan program loyalitas.\"\n",
    "    else:\n",
    "        name = \"Pelanggan Menengah Senior\"\n",
    "        strategy = \"Tawarkan produk yang relevan dengan gaya hidup mereka dan berikan layanan yang nyaman.\"\n",
    "    \n",
    "    nama_kluster.append(name)\n",
    "    \n",
    "    # Mencetak profil lengkap untuk setiap cluster\n",
    "    print(f\"\\nCLUSTER {cluster} - '{name}'\")\n",
    "    print(f\"   Ukuran: {count} pelanggan ({count/len(df)*100:.1f}% dari total)\")\n",
    "    print(f\"   Demografi: Dominan {dominant_gender} ({gender_ratio:.0f}%)\")\n",
    "    print(f\"   Rata-rata Usia: {avg_age:.1f} tahun\")\n",
    "    print(f\"   Rata-rata Pendapatan: ${avg_income:.0f}k per tahun\")\n",
    "    print(f\"   Rata-rata Skor Pengeluaran: {avg_spending:.1f}/100\")\n",
    "    print(f\"   Strategi Bisnis: {strategy}\")\n",
    "\n",
    "# Visualisasi Profiling Cluster\n",
    "# Bar Chart untuk Perbandingan Rata-rata Fitur per Cluster\n",
    "metrics = ['Age', 'Annual Income (k$)', 'Spending Score (1-100)']\n",
    "cluster_means = df.groupby('Cluster')[metrics].mean().reset_index()\n",
    "\n",
    "cluster_means_melted = cluster_means.melt(id_vars='Cluster', var_name='Metrik', value_name='Rata-rata')\n",
    "\n",
    "fig_bar = px.bar(cluster_means_melted,\n",
    "                 x='Cluster',\n",
    "                 y='Rata-rata',\n",
    "                 color='Cluster',\n",
    "                 facet_col='Metrik',\n",
    "                 title='<b>Perbandingan Rata-rata Karakteristik per Cluster</b>',\n",
    "                 labels={'Rata-rata': 'Nilai Rata-rata', 'Cluster': 'Nomor Cluster'},\n",
    "                 text='Rata-rata')\n",
    "\n",
    "fig_bar.update_traces(texttemplate='%{text:.0f}', textposition='outside')\n",
    "fig_bar.update_yaxes(matches=None) \n",
    "fig_bar.show()\n",
    "\n",
    "\n",
    "# Pie Chart untuk Distribusi Ukuran Cluster\n",
    "fig_pie = px.pie(kluster_counts.reset_index(),\n",
    "                 values='count',\n",
    "                 names=kluster_counts.index.map(lambda i: f'Cluster {i}<br>({nama_kluster[i]})'),\n",
    "                 title='<b>Distribusi Pelanggan Berdasarkan Cluster</b>',\n",
    "                 hole=0.3)\n",
    "\n",
    "fig_pie.update_traces(textposition='inside', textinfo='percent+label')\n",
    "fig_pie.show()\n",
    "\n",
    "\n",
    "# Kesimpulan Akhir\n",
    "print(f\"\\nAnalisis segmentasi pelanggan selesai!\")\n",
    "print(f\"Ringkasan: {len(df)} pelanggan berhasil disegmentasi menjadi {k_optimal} kelompok yang berbeda.\")\n",
    "print(f\"Setiap cluster memiliki karakteristik unik yang cocok untuk strategi pemasaran yang tertarget.\")"
   ]
  },
  {
   "cell_type": "markdown",
   "id": "b2d1319a",
   "metadata": {},
   "source": [
    "**Interpretasi Hasil**\n",
    "\n",
    "Cluster 0: Pelanggan Hemat\n",
    "\n",
    "- Karakteristik: Terdiri dari 20 pelanggan (10.0%) dengan pendapatan tahunan rendah (rata-rata $27k) dan skor pengeluaran yang juga rendah (18.4). Usia rata-rata cenderung lebih tua (46.2 tahun).\n",
    "- Persona: Kelompok yang sangat sadar anggaran dan berhati-hati dalam berbelanja.\n",
    "\n",
    "Cluster 1: Pelanggan Muda & Potensial\n",
    "\n",
    "- Karakteristik: Segmen terbesar dengan 54 pelanggan (27.0%). Mereka berusia muda (rata-rata 25.2 tahun) dengan pendapatan menengah ($41k) namun memiliki skor pengeluaran yang cukup tinggi (62.2).\n",
    "- Persona: Generasi muda yang antusias berbelanja dan mengikuti tren, meskipun daya belinya belum maksimal.\n",
    "\n",
    "Cluster 2: Pelanggan Premium\n",
    "\n",
    "- Karakteristik: Terdiri dari 40 pelanggan (20.0%) dengan pendapatan sangat tinggi (rata-rata $86k) dan skor pengeluaran sangat tinggi (81.5). Usia mereka relatif muda hingga dewasa (rata-rata 32.9 tahun).\n",
    "- Persona: Segmen ideal yang memiliki daya beli tinggi dan kemauan tinggi untuk berbelanja. Mereka adalah target utama untuk produk-produk premium.\n",
    "\n",
    "Cluster 3: Pelanggan Berpenghasilan Tinggi & Konservatif\n",
    "\n",
    "- Karakteristik: Terdiri dari 39 pelanggan (19.5%) yang memiliki pendapatan tinggi (rata-rata $86k) namun skor pengeluarannya sangat rendah (19.4).\n",
    "- Persona: Kelompok yang memiliki kemampuan finansial tinggi tetapi sangat selektif dan hemat dalam berbelanja.\n",
    "\n",
    "Cluster 4: Pelanggan Standar & Loyal\n",
    "\n",
    "- Karakteristik: Segmen ini berisi 47 pelanggan (23.5%) dengan usia lebih senior (rata-rata 55.6 tahun), pendapatan menengah ($54k), dan skor pengeluaran yang juga moderat (48.9).\n",
    "- Persona: Pelanggan mapan yang rutin berbelanja, tidak terlalu impulsif, dan kemungkinan besar loyal terhadap merek tertentu."
   ]
  },
  {
   "cell_type": "markdown",
   "id": "83fd53fe",
   "metadata": {},
   "source": [
    "**Kesimpulan**\n",
    "\n",
    "Analisis ini mengidentifikasi lima segmen pelanggan yang berbeda secara signifikan. Berdasarkan profil yang telah dibuat, berikut adalah rekomendasi strategi bisnis yang dapat diambil:\n",
    "1. Untuk Pelanggan Premium (Cluster 2): Fokus pada program loyalitas eksklusif (VIP), penawaran produk mewah, dan pengalaman berbelanja yang personal.\n",
    "2. Untuk Pelanggan Muda & Potensial (Cluster 1): Gunakan kampanye pemasaran digital melalui media sosial, tawarkan produk yang sedang tren, dan program loyalitas berbasis poin untuk mendorong pembelian berulang.\n",
    "3. Untuk Pelanggan Berpenghasilan Tinggi & Konservatif (Cluster 3): Lakukan pendekatan yang berfokus pada kualitas, daya tahan, dan nilai investasi produk. Pemasaran harus menekankan keunggulan teknis dan jaminan purna jual.\n",
    "4. Untuk Pelanggan Standar & Loyal (Cluster 4): Pertahankan loyalitas mereka dengan penawaran yang konsisten, layanan pelanggan yang baik, dan produk yang sesuai dengan kebutuhan gaya hidup mereka.\n",
    "5. Untuk Pelanggan Hemat (Cluster 0): Targetkan dengan promosi diskon, program clearance sale, dan penawaran bundling untuk memberikan persepsi nilai tambah."
   ]
  },
  {
   "cell_type": "markdown",
   "id": "97286f5a",
   "metadata": {},
   "source": [
    "### The 5 Customer Segments Discovered:\n",
    "\n",
    "| Cluster | Name | Size | Karakteristik | Marketing Strategy |\n",
    "|---------|------|------|-------------------|-------------------|\n",
    "| **0** | Pelanggan Hemat | 20 (10%) | Usia cenderung senior, pendapatan dan skor pengeluaran sangat rendah. | Targetkan dengan promosi diskon, penawaran bundling, dan produk bernilai tinggi. |\n",
    "| **1** | Pelanggan Muda & Potensial | 54 (27%) | Usia muda, pendapatan menengah, namun skor pengeluaran tinggi. | Fokus pada kampanye media sosial, produk yang sedang tren, dan program loyalitas berbasis poin. |\n",
    "| **2** | Pelanggan Premium | 40 (20%) | Usia muda hingga dewasa, pendapatan dan skor pengeluaran sangat tinggi. | Tawarkan produk mewah, layanan eksklusif (VIP), dan pengalaman berbelanja yang personal. |\n",
    "| **3** | Pelanggan Berpenghasilan Tinggi & Konservatif | 39 (19.5%) | Usia dewasa, pendapatan sangat tinggi, namun skor pengeluaran sangat rendah. | Lakukan pemasaran yang berfokus pada kualitas, jaminan produk, dan edukasi nilai investasi barang. |\n",
    "| **4** | Pelanggan Standar & Loyal | 47 (23.5%) | Usia senior, pendapatan dan skor pengeluaran pada tingkat menengah. | Pertahankan loyalitas melalui layanan pelanggan yang baik dan penawaran produk yang konsisten. |\n"
   ]
  }
 ],
 "metadata": {
  "kernelspec": {
   "display_name": ".venv (3.13.5)",
   "language": "python",
   "name": "python3"
  },
  "language_info": {
   "codemirror_mode": {
    "name": "ipython",
    "version": 3
   },
   "file_extension": ".py",
   "mimetype": "text/x-python",
   "name": "python",
   "nbconvert_exporter": "python",
   "pygments_lexer": "ipython3",
   "version": "3.13.5"
  }
 },
 "nbformat": 4,
 "nbformat_minor": 5
}
